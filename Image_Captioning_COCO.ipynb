{
  "nbformat": 4,
  "nbformat_minor": 5,
  "metadata": {
    "kernelspec": {
      "display_name": "Python 3",
      "language": "python",
      "name": "python3"
    },
    "language_info": {
      "codemirror_mode": {
        "name": "ipython",
        "version": 3
      },
      "file_extension": ".py",
      "mimetype": "text/x-python",
      "name": "python",
      "nbconvert_exporter": "python",
      "pygments_lexer": "ipython3",
      "version": "3.9.5"
    },
    "colab": {
      "name": "Image_Captioning_COCO.ipynb",
      "provenance": [],
      "collapsed_sections": [],
      "machine_shape": "hm"
    },
    "accelerator": "GPU",
    "widgets": {
      "application/vnd.jupyter.widget-state+json": {
        "06eda22850f24e0f80e6d078ae223fdc": {
          "model_module": "@jupyter-widgets/controls",
          "model_name": "HBoxModel",
          "state": {
            "_view_name": "HBoxView",
            "_dom_classes": [],
            "_model_name": "HBoxModel",
            "_view_module": "@jupyter-widgets/controls",
            "_model_module_version": "1.5.0",
            "_view_count": null,
            "_view_module_version": "1.5.0",
            "box_style": "",
            "layout": "IPY_MODEL_2af0a1e3ff3f489082c813db9b254633",
            "_model_module": "@jupyter-widgets/controls",
            "children": [
              "IPY_MODEL_e1b7465665614b11ad891f346848c058",
              "IPY_MODEL_cc22449150a74d2c9864c7601abae76f"
            ]
          }
        },
        "2af0a1e3ff3f489082c813db9b254633": {
          "model_module": "@jupyter-widgets/base",
          "model_name": "LayoutModel",
          "state": {
            "_view_name": "LayoutView",
            "grid_template_rows": null,
            "right": null,
            "justify_content": null,
            "_view_module": "@jupyter-widgets/base",
            "overflow": null,
            "_model_module_version": "1.2.0",
            "_view_count": null,
            "flex_flow": null,
            "width": null,
            "min_width": null,
            "border": null,
            "align_items": null,
            "bottom": null,
            "_model_module": "@jupyter-widgets/base",
            "top": null,
            "grid_column": null,
            "overflow_y": null,
            "overflow_x": null,
            "grid_auto_flow": null,
            "grid_area": null,
            "grid_template_columns": null,
            "flex": null,
            "_model_name": "LayoutModel",
            "justify_items": null,
            "grid_row": null,
            "max_height": null,
            "align_content": null,
            "visibility": null,
            "align_self": null,
            "height": null,
            "min_height": null,
            "padding": null,
            "grid_auto_rows": null,
            "grid_gap": null,
            "max_width": null,
            "order": null,
            "_view_module_version": "1.2.0",
            "grid_template_areas": null,
            "object_position": null,
            "object_fit": null,
            "grid_auto_columns": null,
            "margin": null,
            "display": null,
            "left": null
          }
        },
        "e1b7465665614b11ad891f346848c058": {
          "model_module": "@jupyter-widgets/controls",
          "model_name": "FloatProgressModel",
          "state": {
            "_view_name": "ProgressView",
            "style": "IPY_MODEL_c701886cfae7484abb179cd4daf20d5b",
            "_dom_classes": [],
            "description": "",
            "_model_name": "FloatProgressModel",
            "bar_style": "success",
            "max": 252907541,
            "_view_module": "@jupyter-widgets/controls",
            "_model_module_version": "1.5.0",
            "value": 252907541,
            "_view_count": null,
            "_view_module_version": "1.5.0",
            "orientation": "horizontal",
            "min": 0,
            "description_tooltip": null,
            "_model_module": "@jupyter-widgets/controls",
            "layout": "IPY_MODEL_492ac9d8c8a74206873240c768cfd82a"
          }
        },
        "cc22449150a74d2c9864c7601abae76f": {
          "model_module": "@jupyter-widgets/controls",
          "model_name": "HTMLModel",
          "state": {
            "_view_name": "HTMLView",
            "style": "IPY_MODEL_2ca697f9e96b4f97872e9e331cc0ff17",
            "_dom_classes": [],
            "description": "",
            "_model_name": "HTMLModel",
            "placeholder": "​",
            "_view_module": "@jupyter-widgets/controls",
            "_model_module_version": "1.5.0",
            "value": " 252908544/? [00:25&lt;00:00, 10036554.40it/s]",
            "_view_count": null,
            "_view_module_version": "1.5.0",
            "description_tooltip": null,
            "_model_module": "@jupyter-widgets/controls",
            "layout": "IPY_MODEL_db95ec09ec9a43dcb5819c0cd8bec5ae"
          }
        },
        "c701886cfae7484abb179cd4daf20d5b": {
          "model_module": "@jupyter-widgets/controls",
          "model_name": "ProgressStyleModel",
          "state": {
            "_view_name": "StyleView",
            "_model_name": "ProgressStyleModel",
            "description_width": "initial",
            "_view_module": "@jupyter-widgets/base",
            "_model_module_version": "1.5.0",
            "_view_count": null,
            "_view_module_version": "1.2.0",
            "bar_color": null,
            "_model_module": "@jupyter-widgets/controls"
          }
        },
        "492ac9d8c8a74206873240c768cfd82a": {
          "model_module": "@jupyter-widgets/base",
          "model_name": "LayoutModel",
          "state": {
            "_view_name": "LayoutView",
            "grid_template_rows": null,
            "right": null,
            "justify_content": null,
            "_view_module": "@jupyter-widgets/base",
            "overflow": null,
            "_model_module_version": "1.2.0",
            "_view_count": null,
            "flex_flow": null,
            "width": null,
            "min_width": null,
            "border": null,
            "align_items": null,
            "bottom": null,
            "_model_module": "@jupyter-widgets/base",
            "top": null,
            "grid_column": null,
            "overflow_y": null,
            "overflow_x": null,
            "grid_auto_flow": null,
            "grid_area": null,
            "grid_template_columns": null,
            "flex": null,
            "_model_name": "LayoutModel",
            "justify_items": null,
            "grid_row": null,
            "max_height": null,
            "align_content": null,
            "visibility": null,
            "align_self": null,
            "height": null,
            "min_height": null,
            "padding": null,
            "grid_auto_rows": null,
            "grid_gap": null,
            "max_width": null,
            "order": null,
            "_view_module_version": "1.2.0",
            "grid_template_areas": null,
            "object_position": null,
            "object_fit": null,
            "grid_auto_columns": null,
            "margin": null,
            "display": null,
            "left": null
          }
        },
        "2ca697f9e96b4f97872e9e331cc0ff17": {
          "model_module": "@jupyter-widgets/controls",
          "model_name": "DescriptionStyleModel",
          "state": {
            "_view_name": "StyleView",
            "_model_name": "DescriptionStyleModel",
            "description_width": "",
            "_view_module": "@jupyter-widgets/base",
            "_model_module_version": "1.5.0",
            "_view_count": null,
            "_view_module_version": "1.2.0",
            "_model_module": "@jupyter-widgets/controls"
          }
        },
        "db95ec09ec9a43dcb5819c0cd8bec5ae": {
          "model_module": "@jupyter-widgets/base",
          "model_name": "LayoutModel",
          "state": {
            "_view_name": "LayoutView",
            "grid_template_rows": null,
            "right": null,
            "justify_content": null,
            "_view_module": "@jupyter-widgets/base",
            "overflow": null,
            "_model_module_version": "1.2.0",
            "_view_count": null,
            "flex_flow": null,
            "width": null,
            "min_width": null,
            "border": null,
            "align_items": null,
            "bottom": null,
            "_model_module": "@jupyter-widgets/base",
            "top": null,
            "grid_column": null,
            "overflow_y": null,
            "overflow_x": null,
            "grid_auto_flow": null,
            "grid_area": null,
            "grid_template_columns": null,
            "flex": null,
            "_model_name": "LayoutModel",
            "justify_items": null,
            "grid_row": null,
            "max_height": null,
            "align_content": null,
            "visibility": null,
            "align_self": null,
            "height": null,
            "min_height": null,
            "padding": null,
            "grid_auto_rows": null,
            "grid_gap": null,
            "max_width": null,
            "order": null,
            "_view_module_version": "1.2.0",
            "grid_template_areas": null,
            "object_position": null,
            "object_fit": null,
            "grid_auto_columns": null,
            "margin": null,
            "display": null,
            "left": null
          }
        },
        "51308c50016a43b98f082522d945c800": {
          "model_module": "@jupyter-widgets/controls",
          "model_name": "HBoxModel",
          "state": {
            "_view_name": "HBoxView",
            "_dom_classes": [],
            "_model_name": "HBoxModel",
            "_view_module": "@jupyter-widgets/controls",
            "_model_module_version": "1.5.0",
            "_view_count": null,
            "_view_module_version": "1.5.0",
            "box_style": "",
            "layout": "IPY_MODEL_89c165063b234cf2ad6f7ccd8d2a3cca",
            "_model_module": "@jupyter-widgets/controls",
            "children": [
              "IPY_MODEL_fa6de682276c4cd89793c1f7739ea82c",
              "IPY_MODEL_999e03bde2ac4aceb3b981c0ec1a06e0"
            ]
          }
        },
        "89c165063b234cf2ad6f7ccd8d2a3cca": {
          "model_module": "@jupyter-widgets/base",
          "model_name": "LayoutModel",
          "state": {
            "_view_name": "LayoutView",
            "grid_template_rows": null,
            "right": null,
            "justify_content": null,
            "_view_module": "@jupyter-widgets/base",
            "overflow": null,
            "_model_module_version": "1.2.0",
            "_view_count": null,
            "flex_flow": null,
            "width": null,
            "min_width": null,
            "border": null,
            "align_items": null,
            "bottom": null,
            "_model_module": "@jupyter-widgets/base",
            "top": null,
            "grid_column": null,
            "overflow_y": null,
            "overflow_x": null,
            "grid_auto_flow": null,
            "grid_area": null,
            "grid_template_columns": null,
            "flex": null,
            "_model_name": "LayoutModel",
            "justify_items": null,
            "grid_row": null,
            "max_height": null,
            "align_content": null,
            "visibility": null,
            "align_self": null,
            "height": null,
            "min_height": null,
            "padding": null,
            "grid_auto_rows": null,
            "grid_gap": null,
            "max_width": null,
            "order": null,
            "_view_module_version": "1.2.0",
            "grid_template_areas": null,
            "object_position": null,
            "object_fit": null,
            "grid_auto_columns": null,
            "margin": null,
            "display": null,
            "left": null
          }
        },
        "fa6de682276c4cd89793c1f7739ea82c": {
          "model_module": "@jupyter-widgets/controls",
          "model_name": "FloatProgressModel",
          "state": {
            "_view_name": "ProgressView",
            "style": "IPY_MODEL_29c7e585289348c1ad5b83df9b61bd89",
            "_dom_classes": [],
            "description": "Epoch 1: 100%",
            "_model_name": "FloatProgressModel",
            "bar_style": "danger",
            "max": 463,
            "_view_module": "@jupyter-widgets/controls",
            "_model_module_version": "1.5.0",
            "value": 461,
            "_view_count": null,
            "_view_module_version": "1.5.0",
            "orientation": "horizontal",
            "min": 0,
            "description_tooltip": null,
            "_model_module": "@jupyter-widgets/controls",
            "layout": "IPY_MODEL_08c5fd30e0124b9fa1f8042c76e69a93"
          }
        },
        "999e03bde2ac4aceb3b981c0ec1a06e0": {
          "model_module": "@jupyter-widgets/controls",
          "model_name": "HTMLModel",
          "state": {
            "_view_name": "HTMLView",
            "style": "IPY_MODEL_893cad1e69ed4450b7d56310a05354f8",
            "_dom_classes": [],
            "description": "",
            "_model_name": "HTMLModel",
            "placeholder": "​",
            "_view_module": "@jupyter-widgets/controls",
            "_model_module_version": "1.5.0",
            "value": " 461/463 [02:30&lt;00:00,  3.07it/s, loss=tensor(4.6158, device=&#x27;cuda:0&#x27;), lr=0.000387]",
            "_view_count": null,
            "_view_module_version": "1.5.0",
            "description_tooltip": null,
            "_model_module": "@jupyter-widgets/controls",
            "layout": "IPY_MODEL_4d7e7599b2544ef4800c29ab60c28e94"
          }
        },
        "29c7e585289348c1ad5b83df9b61bd89": {
          "model_module": "@jupyter-widgets/controls",
          "model_name": "ProgressStyleModel",
          "state": {
            "_view_name": "StyleView",
            "_model_name": "ProgressStyleModel",
            "description_width": "initial",
            "_view_module": "@jupyter-widgets/base",
            "_model_module_version": "1.5.0",
            "_view_count": null,
            "_view_module_version": "1.2.0",
            "bar_color": null,
            "_model_module": "@jupyter-widgets/controls"
          }
        },
        "08c5fd30e0124b9fa1f8042c76e69a93": {
          "model_module": "@jupyter-widgets/base",
          "model_name": "LayoutModel",
          "state": {
            "_view_name": "LayoutView",
            "grid_template_rows": null,
            "right": null,
            "justify_content": null,
            "_view_module": "@jupyter-widgets/base",
            "overflow": null,
            "_model_module_version": "1.2.0",
            "_view_count": null,
            "flex_flow": null,
            "width": null,
            "min_width": null,
            "border": null,
            "align_items": null,
            "bottom": null,
            "_model_module": "@jupyter-widgets/base",
            "top": null,
            "grid_column": null,
            "overflow_y": null,
            "overflow_x": null,
            "grid_auto_flow": null,
            "grid_area": null,
            "grid_template_columns": null,
            "flex": null,
            "_model_name": "LayoutModel",
            "justify_items": null,
            "grid_row": null,
            "max_height": null,
            "align_content": null,
            "visibility": null,
            "align_self": null,
            "height": null,
            "min_height": null,
            "padding": null,
            "grid_auto_rows": null,
            "grid_gap": null,
            "max_width": null,
            "order": null,
            "_view_module_version": "1.2.0",
            "grid_template_areas": null,
            "object_position": null,
            "object_fit": null,
            "grid_auto_columns": null,
            "margin": null,
            "display": null,
            "left": null
          }
        },
        "893cad1e69ed4450b7d56310a05354f8": {
          "model_module": "@jupyter-widgets/controls",
          "model_name": "DescriptionStyleModel",
          "state": {
            "_view_name": "StyleView",
            "_model_name": "DescriptionStyleModel",
            "description_width": "",
            "_view_module": "@jupyter-widgets/base",
            "_model_module_version": "1.5.0",
            "_view_count": null,
            "_view_module_version": "1.2.0",
            "_model_module": "@jupyter-widgets/controls"
          }
        },
        "4d7e7599b2544ef4800c29ab60c28e94": {
          "model_module": "@jupyter-widgets/base",
          "model_name": "LayoutModel",
          "state": {
            "_view_name": "LayoutView",
            "grid_template_rows": null,
            "right": null,
            "justify_content": null,
            "_view_module": "@jupyter-widgets/base",
            "overflow": null,
            "_model_module_version": "1.2.0",
            "_view_count": null,
            "flex_flow": null,
            "width": null,
            "min_width": null,
            "border": null,
            "align_items": null,
            "bottom": null,
            "_model_module": "@jupyter-widgets/base",
            "top": null,
            "grid_column": null,
            "overflow_y": null,
            "overflow_x": null,
            "grid_auto_flow": null,
            "grid_area": null,
            "grid_template_columns": null,
            "flex": null,
            "_model_name": "LayoutModel",
            "justify_items": null,
            "grid_row": null,
            "max_height": null,
            "align_content": null,
            "visibility": null,
            "align_self": null,
            "height": null,
            "min_height": null,
            "padding": null,
            "grid_auto_rows": null,
            "grid_gap": null,
            "max_width": null,
            "order": null,
            "_view_module_version": "1.2.0",
            "grid_template_areas": null,
            "object_position": null,
            "object_fit": null,
            "grid_auto_columns": null,
            "margin": null,
            "display": null,
            "left": null
          }
        },
        "8bec5ada04ed40338660f858b4f917b8": {
          "model_module": "@jupyter-widgets/controls",
          "model_name": "HBoxModel",
          "state": {
            "_view_name": "HBoxView",
            "_dom_classes": [],
            "_model_name": "HBoxModel",
            "_view_module": "@jupyter-widgets/controls",
            "_model_module_version": "1.5.0",
            "_view_count": null,
            "_view_module_version": "1.5.0",
            "box_style": "",
            "layout": "IPY_MODEL_9ac2d61d33684275a43c77d07c340b8f",
            "_model_module": "@jupyter-widgets/controls",
            "children": [
              "IPY_MODEL_78013909e8a847fc98573e43314eaaff",
              "IPY_MODEL_d35b2c6b29b846e29c2e898390309eb9"
            ]
          }
        },
        "9ac2d61d33684275a43c77d07c340b8f": {
          "model_module": "@jupyter-widgets/base",
          "model_name": "LayoutModel",
          "state": {
            "_view_name": "LayoutView",
            "grid_template_rows": null,
            "right": null,
            "justify_content": null,
            "_view_module": "@jupyter-widgets/base",
            "overflow": null,
            "_model_module_version": "1.2.0",
            "_view_count": null,
            "flex_flow": null,
            "width": null,
            "min_width": null,
            "border": null,
            "align_items": null,
            "bottom": null,
            "_model_module": "@jupyter-widgets/base",
            "top": null,
            "grid_column": null,
            "overflow_y": null,
            "overflow_x": null,
            "grid_auto_flow": null,
            "grid_area": null,
            "grid_template_columns": null,
            "flex": null,
            "_model_name": "LayoutModel",
            "justify_items": null,
            "grid_row": null,
            "max_height": null,
            "align_content": null,
            "visibility": null,
            "align_self": null,
            "height": null,
            "min_height": null,
            "padding": null,
            "grid_auto_rows": null,
            "grid_gap": null,
            "max_width": null,
            "order": null,
            "_view_module_version": "1.2.0",
            "grid_template_areas": null,
            "object_position": null,
            "object_fit": null,
            "grid_auto_columns": null,
            "margin": null,
            "display": null,
            "left": null
          }
        },
        "78013909e8a847fc98573e43314eaaff": {
          "model_module": "@jupyter-widgets/controls",
          "model_name": "FloatProgressModel",
          "state": {
            "_view_name": "ProgressView",
            "style": "IPY_MODEL_4eec55da03f3414f9c3e5bef3cc8813f",
            "_dom_classes": [],
            "description": "Evaluating: 100%",
            "_model_name": "FloatProgressModel",
            "bar_style": "success",
            "max": 20,
            "_view_module": "@jupyter-widgets/controls",
            "_model_module_version": "1.5.0",
            "value": 20,
            "_view_count": null,
            "_view_module_version": "1.5.0",
            "orientation": "horizontal",
            "min": 0,
            "description_tooltip": null,
            "_model_module": "@jupyter-widgets/controls",
            "layout": "IPY_MODEL_3715ba7d1a484083afb565a99b399136"
          }
        },
        "d35b2c6b29b846e29c2e898390309eb9": {
          "model_module": "@jupyter-widgets/controls",
          "model_name": "HTMLModel",
          "state": {
            "_view_name": "HTMLView",
            "style": "IPY_MODEL_5271c72db26c42128c534f65c0616f34",
            "_dom_classes": [],
            "description": "",
            "_model_name": "HTMLModel",
            "placeholder": "​",
            "_view_module": "@jupyter-widgets/controls",
            "_model_module_version": "1.5.0",
            "value": " 20/20 [00:15&lt;00:00,  1.25it/s, val_loss=tensor(2.7603, device=&#x27;cuda:0&#x27;)]",
            "_view_count": null,
            "_view_module_version": "1.5.0",
            "description_tooltip": null,
            "_model_module": "@jupyter-widgets/controls",
            "layout": "IPY_MODEL_7ff6d90045e444798903899c6f750193"
          }
        },
        "4eec55da03f3414f9c3e5bef3cc8813f": {
          "model_module": "@jupyter-widgets/controls",
          "model_name": "ProgressStyleModel",
          "state": {
            "_view_name": "StyleView",
            "_model_name": "ProgressStyleModel",
            "description_width": "initial",
            "_view_module": "@jupyter-widgets/base",
            "_model_module_version": "1.5.0",
            "_view_count": null,
            "_view_module_version": "1.2.0",
            "bar_color": null,
            "_model_module": "@jupyter-widgets/controls"
          }
        },
        "3715ba7d1a484083afb565a99b399136": {
          "model_module": "@jupyter-widgets/base",
          "model_name": "LayoutModel",
          "state": {
            "_view_name": "LayoutView",
            "grid_template_rows": null,
            "right": null,
            "justify_content": null,
            "_view_module": "@jupyter-widgets/base",
            "overflow": null,
            "_model_module_version": "1.2.0",
            "_view_count": null,
            "flex_flow": null,
            "width": null,
            "min_width": null,
            "border": null,
            "align_items": null,
            "bottom": null,
            "_model_module": "@jupyter-widgets/base",
            "top": null,
            "grid_column": null,
            "overflow_y": null,
            "overflow_x": null,
            "grid_auto_flow": null,
            "grid_area": null,
            "grid_template_columns": null,
            "flex": null,
            "_model_name": "LayoutModel",
            "justify_items": null,
            "grid_row": null,
            "max_height": null,
            "align_content": null,
            "visibility": null,
            "align_self": null,
            "height": null,
            "min_height": null,
            "padding": null,
            "grid_auto_rows": null,
            "grid_gap": null,
            "max_width": null,
            "order": null,
            "_view_module_version": "1.2.0",
            "grid_template_areas": null,
            "object_position": null,
            "object_fit": null,
            "grid_auto_columns": null,
            "margin": null,
            "display": null,
            "left": null
          }
        },
        "5271c72db26c42128c534f65c0616f34": {
          "model_module": "@jupyter-widgets/controls",
          "model_name": "DescriptionStyleModel",
          "state": {
            "_view_name": "StyleView",
            "_model_name": "DescriptionStyleModel",
            "description_width": "",
            "_view_module": "@jupyter-widgets/base",
            "_model_module_version": "1.5.0",
            "_view_count": null,
            "_view_module_version": "1.2.0",
            "_model_module": "@jupyter-widgets/controls"
          }
        },
        "7ff6d90045e444798903899c6f750193": {
          "model_module": "@jupyter-widgets/base",
          "model_name": "LayoutModel",
          "state": {
            "_view_name": "LayoutView",
            "grid_template_rows": null,
            "right": null,
            "justify_content": null,
            "_view_module": "@jupyter-widgets/base",
            "overflow": null,
            "_model_module_version": "1.2.0",
            "_view_count": null,
            "flex_flow": null,
            "width": null,
            "min_width": null,
            "border": null,
            "align_items": null,
            "bottom": null,
            "_model_module": "@jupyter-widgets/base",
            "top": null,
            "grid_column": null,
            "overflow_y": null,
            "overflow_x": null,
            "grid_auto_flow": null,
            "grid_area": null,
            "grid_template_columns": null,
            "flex": null,
            "_model_name": "LayoutModel",
            "justify_items": null,
            "grid_row": null,
            "max_height": null,
            "align_content": null,
            "visibility": null,
            "align_self": null,
            "height": null,
            "min_height": null,
            "padding": null,
            "grid_auto_rows": null,
            "grid_gap": null,
            "max_width": null,
            "order": null,
            "_view_module_version": "1.2.0",
            "grid_template_areas": null,
            "object_position": null,
            "object_fit": null,
            "grid_auto_columns": null,
            "margin": null,
            "display": null,
            "left": null
          }
        },
        "ee751e2281bb4a6f9ab910482c0d8b44": {
          "model_module": "@jupyter-widgets/controls",
          "model_name": "HBoxModel",
          "state": {
            "_view_name": "HBoxView",
            "_dom_classes": [],
            "_model_name": "HBoxModel",
            "_view_module": "@jupyter-widgets/controls",
            "_model_module_version": "1.5.0",
            "_view_count": null,
            "_view_module_version": "1.5.0",
            "box_style": "",
            "layout": "IPY_MODEL_d44bca225e7b4847829eff21e4de4f71",
            "_model_module": "@jupyter-widgets/controls",
            "children": [
              "IPY_MODEL_5fb8c6ccc8104eb48c2788602d4158ce",
              "IPY_MODEL_5c0a6f9459274f59b431ea3b87a0172a"
            ]
          }
        },
        "d44bca225e7b4847829eff21e4de4f71": {
          "model_module": "@jupyter-widgets/base",
          "model_name": "LayoutModel",
          "state": {
            "_view_name": "LayoutView",
            "grid_template_rows": null,
            "right": null,
            "justify_content": null,
            "_view_module": "@jupyter-widgets/base",
            "overflow": null,
            "_model_module_version": "1.2.0",
            "_view_count": null,
            "flex_flow": null,
            "width": null,
            "min_width": null,
            "border": null,
            "align_items": null,
            "bottom": null,
            "_model_module": "@jupyter-widgets/base",
            "top": null,
            "grid_column": null,
            "overflow_y": null,
            "overflow_x": null,
            "grid_auto_flow": null,
            "grid_area": null,
            "grid_template_columns": null,
            "flex": null,
            "_model_name": "LayoutModel",
            "justify_items": null,
            "grid_row": null,
            "max_height": null,
            "align_content": null,
            "visibility": null,
            "align_self": null,
            "height": null,
            "min_height": null,
            "padding": null,
            "grid_auto_rows": null,
            "grid_gap": null,
            "max_width": null,
            "order": null,
            "_view_module_version": "1.2.0",
            "grid_template_areas": null,
            "object_position": null,
            "object_fit": null,
            "grid_auto_columns": null,
            "margin": null,
            "display": null,
            "left": null
          }
        },
        "5fb8c6ccc8104eb48c2788602d4158ce": {
          "model_module": "@jupyter-widgets/controls",
          "model_name": "FloatProgressModel",
          "state": {
            "_view_name": "ProgressView",
            "style": "IPY_MODEL_ae15a60257c547fa99ed235046ae6fc8",
            "_dom_classes": [],
            "description": "Epoch 2:  57%",
            "_model_name": "FloatProgressModel",
            "bar_style": "",
            "max": 463,
            "_view_module": "@jupyter-widgets/controls",
            "_model_module_version": "1.5.0",
            "value": 265,
            "_view_count": null,
            "_view_module_version": "1.5.0",
            "orientation": "horizontal",
            "min": 0,
            "description_tooltip": null,
            "_model_module": "@jupyter-widgets/controls",
            "layout": "IPY_MODEL_af66a552319e4b7cbe948464369e40f2"
          }
        },
        "5c0a6f9459274f59b431ea3b87a0172a": {
          "model_module": "@jupyter-widgets/controls",
          "model_name": "HTMLModel",
          "state": {
            "_view_name": "HTMLView",
            "style": "IPY_MODEL_8d5804875ec8424c840cf6b740e178d1",
            "_dom_classes": [],
            "description": "",
            "_model_name": "HTMLModel",
            "placeholder": "​",
            "_view_module": "@jupyter-widgets/controls",
            "_model_module_version": "1.5.0",
            "value": " 265/463 [01:26&lt;01:06,  3.00it/s, loss=tensor(2.8819, device=&#x27;cuda:0&#x27;), lr=0.00061]",
            "_view_count": null,
            "_view_module_version": "1.5.0",
            "description_tooltip": null,
            "_model_module": "@jupyter-widgets/controls",
            "layout": "IPY_MODEL_5cc50794a00a4f7cb6faa36cf16be4aa"
          }
        },
        "ae15a60257c547fa99ed235046ae6fc8": {
          "model_module": "@jupyter-widgets/controls",
          "model_name": "ProgressStyleModel",
          "state": {
            "_view_name": "StyleView",
            "_model_name": "ProgressStyleModel",
            "description_width": "initial",
            "_view_module": "@jupyter-widgets/base",
            "_model_module_version": "1.5.0",
            "_view_count": null,
            "_view_module_version": "1.2.0",
            "bar_color": null,
            "_model_module": "@jupyter-widgets/controls"
          }
        },
        "af66a552319e4b7cbe948464369e40f2": {
          "model_module": "@jupyter-widgets/base",
          "model_name": "LayoutModel",
          "state": {
            "_view_name": "LayoutView",
            "grid_template_rows": null,
            "right": null,
            "justify_content": null,
            "_view_module": "@jupyter-widgets/base",
            "overflow": null,
            "_model_module_version": "1.2.0",
            "_view_count": null,
            "flex_flow": null,
            "width": null,
            "min_width": null,
            "border": null,
            "align_items": null,
            "bottom": null,
            "_model_module": "@jupyter-widgets/base",
            "top": null,
            "grid_column": null,
            "overflow_y": null,
            "overflow_x": null,
            "grid_auto_flow": null,
            "grid_area": null,
            "grid_template_columns": null,
            "flex": null,
            "_model_name": "LayoutModel",
            "justify_items": null,
            "grid_row": null,
            "max_height": null,
            "align_content": null,
            "visibility": null,
            "align_self": null,
            "height": null,
            "min_height": null,
            "padding": null,
            "grid_auto_rows": null,
            "grid_gap": null,
            "max_width": null,
            "order": null,
            "_view_module_version": "1.2.0",
            "grid_template_areas": null,
            "object_position": null,
            "object_fit": null,
            "grid_auto_columns": null,
            "margin": null,
            "display": null,
            "left": null
          }
        },
        "8d5804875ec8424c840cf6b740e178d1": {
          "model_module": "@jupyter-widgets/controls",
          "model_name": "DescriptionStyleModel",
          "state": {
            "_view_name": "StyleView",
            "_model_name": "DescriptionStyleModel",
            "description_width": "",
            "_view_module": "@jupyter-widgets/base",
            "_model_module_version": "1.5.0",
            "_view_count": null,
            "_view_module_version": "1.2.0",
            "_model_module": "@jupyter-widgets/controls"
          }
        },
        "5cc50794a00a4f7cb6faa36cf16be4aa": {
          "model_module": "@jupyter-widgets/base",
          "model_name": "LayoutModel",
          "state": {
            "_view_name": "LayoutView",
            "grid_template_rows": null,
            "right": null,
            "justify_content": null,
            "_view_module": "@jupyter-widgets/base",
            "overflow": null,
            "_model_module_version": "1.2.0",
            "_view_count": null,
            "flex_flow": null,
            "width": null,
            "min_width": null,
            "border": null,
            "align_items": null,
            "bottom": null,
            "_model_module": "@jupyter-widgets/base",
            "top": null,
            "grid_column": null,
            "overflow_y": null,
            "overflow_x": null,
            "grid_auto_flow": null,
            "grid_area": null,
            "grid_template_columns": null,
            "flex": null,
            "_model_name": "LayoutModel",
            "justify_items": null,
            "grid_row": null,
            "max_height": null,
            "align_content": null,
            "visibility": null,
            "align_self": null,
            "height": null,
            "min_height": null,
            "padding": null,
            "grid_auto_rows": null,
            "grid_gap": null,
            "max_width": null,
            "order": null,
            "_view_module_version": "1.2.0",
            "grid_template_areas": null,
            "object_position": null,
            "object_fit": null,
            "grid_auto_columns": null,
            "margin": null,
            "display": null,
            "left": null
          }
        }
      }
    }
  },
  "cells": [
    {
      "cell_type": "markdown",
      "metadata": {
        "id": "7840ce0e-dee1-4323-9eeb-05fda2898d8f"
      },
      "source": [
        "# Image Captioning with Transformers"
      ],
      "id": "7840ce0e-dee1-4323-9eeb-05fda2898d8f"
    },
    {
      "cell_type": "code",
      "metadata": {
        "colab": {
          "base_uri": "https://localhost:8080/"
        },
        "id": "qGijTnwSnnIM",
        "outputId": "c40f273f-a68d-4c26-a343-13144aaf9161"
      },
      "source": [
        "!nvidia-smi"
      ],
      "id": "qGijTnwSnnIM",
      "execution_count": null,
      "outputs": [
        {
          "output_type": "stream",
          "text": [
            "Fri Jun 25 22:52:26 2021       \n",
            "+-----------------------------------------------------------------------------+\n",
            "| NVIDIA-SMI 465.27       Driver Version: 460.32.03    CUDA Version: 11.2     |\n",
            "|-------------------------------+----------------------+----------------------+\n",
            "| GPU  Name        Persistence-M| Bus-Id        Disp.A | Volatile Uncorr. ECC |\n",
            "| Fan  Temp  Perf  Pwr:Usage/Cap|         Memory-Usage | GPU-Util  Compute M. |\n",
            "|                               |                      |               MIG M. |\n",
            "|===============================+======================+======================|\n",
            "|   0  Tesla V100-SXM2...  Off  | 00000000:00:04.0 Off |                    0 |\n",
            "| N/A   36C    P0    24W / 300W |      0MiB / 16160MiB |      0%      Default |\n",
            "|                               |                      |                  N/A |\n",
            "+-------------------------------+----------------------+----------------------+\n",
            "                                                                               \n",
            "+-----------------------------------------------------------------------------+\n",
            "| Processes:                                                                  |\n",
            "|  GPU   GI   CI        PID   Type   Process name                  GPU Memory |\n",
            "|        ID   ID                                                   Usage      |\n",
            "|=============================================================================|\n",
            "|  No running processes found                                                 |\n",
            "+-----------------------------------------------------------------------------+\n"
          ],
          "name": "stdout"
        }
      ]
    },
    {
      "cell_type": "code",
      "metadata": {
        "colab": {
          "base_uri": "https://localhost:8080/"
        },
        "id": "VGt3Q64Zogx2",
        "outputId": "e809ca0b-0d86-4ea7-a4f1-2fb41d177164"
      },
      "source": [
        "!apt install -qq pigz\n",
        "%pip install -q timm wandb\n",
        "%pip install -q --extra-index-url https://developer.download.nvidia.com/compute/redist --upgrade nvidia-dali-cuda110"
      ],
      "id": "VGt3Q64Zogx2",
      "execution_count": null,
      "outputs": [
        {
          "output_type": "stream",
          "text": [
            "The following NEW packages will be installed:\n",
            "  pigz\n",
            "0 upgraded, 1 newly installed, 0 to remove and 39 not upgraded.\n",
            "Need to get 57.4 kB of archives.\n",
            "After this operation, 259 kB of additional disk space will be used.\n",
            "Selecting previously unselected package pigz.\n",
            "(Reading database ... 160772 files and directories currently installed.)\n",
            "Preparing to unpack .../archives/pigz_2.4-1_amd64.deb ...\n",
            "Unpacking pigz (2.4-1) ...\n",
            "Setting up pigz (2.4-1) ...\n",
            "Processing triggers for man-db (2.8.3-2ubuntu0.1) ...\n",
            "\u001b[K     |████████████████████████████████| 348kB 14.7MB/s \n",
            "\u001b[K     |████████████████████████████████| 1.8MB 25.5MB/s \n",
            "\u001b[K     |████████████████████████████████| 102kB 13.6MB/s \n",
            "\u001b[K     |████████████████████████████████| 174kB 52.2MB/s \n",
            "\u001b[K     |████████████████████████████████| 133kB 50.8MB/s \n",
            "\u001b[K     |████████████████████████████████| 71kB 10.4MB/s \n",
            "\u001b[?25h  Building wheel for subprocess32 (setup.py) ... \u001b[?25l\u001b[?25hdone\n",
            "  Building wheel for pathtools (setup.py) ... \u001b[?25l\u001b[?25hdone\n",
            "\u001b[K     |████████████████████████████████| 613.6MB 26kB/s \n",
            "\u001b[?25h"
          ],
          "name": "stdout"
        }
      ]
    },
    {
      "cell_type": "code",
      "metadata": {
        "colab": {
          "base_uri": "https://localhost:8080/"
        },
        "id": "ujdZEDZJnpe3",
        "outputId": "04522f30-31c1-4c8d-d2b8-50525a9a9918"
      },
      "source": [
        "!git clone https://github.com/ShivamShrirao/Image-Captioning-Transformers"
      ],
      "id": "ujdZEDZJnpe3",
      "execution_count": null,
      "outputs": [
        {
          "output_type": "stream",
          "text": [
            "Cloning into 'Image-Captioning-Transformers'...\n",
            "remote: Enumerating objects: 31, done.\u001b[K\n",
            "remote: Counting objects: 100% (31/31), done.\u001b[K\n",
            "remote: Compressing objects: 100% (23/23), done.\u001b[K\n",
            "remote: Total 31 (delta 8), reused 28 (delta 5), pack-reused 0\u001b[K\n",
            "Unpacking objects: 100% (31/31), done.\n"
          ],
          "name": "stdout"
        }
      ]
    },
    {
      "cell_type": "markdown",
      "metadata": {
        "id": "819264fd-bf0c-4862-9dbd-c4d2504a7071"
      },
      "source": [
        "# Download Dataset and Annotations"
      ],
      "id": "819264fd-bf0c-4862-9dbd-c4d2504a7071"
    },
    {
      "cell_type": "code",
      "metadata": {
        "id": "cKeB5Z8UYU8A"
      },
      "source": [
        "!mv kaggle.json ~/.kaggle/\n",
        "!chmod 600 ~/.kaggle/kaggle.json"
      ],
      "id": "cKeB5Z8UYU8A",
      "execution_count": null,
      "outputs": []
    },
    {
      "cell_type": "code",
      "metadata": {
        "id": "9IOQUsLEHD2z"
      },
      "source": [
        "!kaggle datasets download -d shivamshrirao/coco-trainval2017-320x320"
      ],
      "id": "9IOQUsLEHD2z",
      "execution_count": null,
      "outputs": []
    },
    {
      "cell_type": "code",
      "metadata": {
        "id": "vCLNX6TaYt4d"
      },
      "source": [
        "!unzip -q coco-trainval2017-320x320.zip"
      ],
      "id": "vCLNX6TaYt4d",
      "execution_count": null,
      "outputs": []
    },
    {
      "cell_type": "code",
      "metadata": {
        "id": "veRLNXL-xtYR"
      },
      "source": [
        "# !gdown --id 1-3vdwBlY-CdVultkrFwOhyJTGC5TFUV8"
      ],
      "id": "veRLNXL-xtYR",
      "execution_count": null,
      "outputs": []
    },
    {
      "cell_type": "code",
      "metadata": {
        "id": "WbpjO-f9wWQt"
      },
      "source": [
        "# !pigz -dc coco_trainval2017_320x320.tar.gz | tar xf -"
      ],
      "id": "WbpjO-f9wWQt",
      "execution_count": null,
      "outputs": []
    },
    {
      "cell_type": "code",
      "metadata": {
        "id": "39cda7a8-5913-4ff8-a871-d56f9cc16750"
      },
      "source": [
        "from torchvision.datasets.utils import download_and_extract_archive\n",
        "DATA_DIR = \"datasets/COCO\""
      ],
      "id": "39cda7a8-5913-4ff8-a871-d56f9cc16750",
      "execution_count": null,
      "outputs": []
    },
    {
      "cell_type": "code",
      "metadata": {
        "colab": {
          "base_uri": "https://localhost:8080/",
          "height": 100,
          "referenced_widgets": [
            "06eda22850f24e0f80e6d078ae223fdc",
            "2af0a1e3ff3f489082c813db9b254633",
            "e1b7465665614b11ad891f346848c058",
            "cc22449150a74d2c9864c7601abae76f",
            "c701886cfae7484abb179cd4daf20d5b",
            "492ac9d8c8a74206873240c768cfd82a",
            "2ca697f9e96b4f97872e9e331cc0ff17",
            "db95ec09ec9a43dcb5819c0cd8bec5ae"
          ]
        },
        "id": "e91386a8-b174-4720-af37-a6b2704eb269",
        "outputId": "f94aa38d-220c-472a-d9be-ecbe187028db"
      },
      "source": [
        "download_and_extract_archive(\"http://images.cocodataset.org/annotations/annotations_trainval2017.zip\",\n",
        "                             download_root=DATA_DIR,\n",
        "                             remove_finished=True)"
      ],
      "id": "e91386a8-b174-4720-af37-a6b2704eb269",
      "execution_count": null,
      "outputs": [
        {
          "output_type": "stream",
          "text": [
            "Downloading http://images.cocodataset.org/annotations/annotations_trainval2017.zip to datasets/COCO/annotations_trainval2017.zip\n"
          ],
          "name": "stdout"
        },
        {
          "output_type": "display_data",
          "data": {
            "application/vnd.jupyter.widget-view+json": {
              "model_id": "06eda22850f24e0f80e6d078ae223fdc",
              "version_minor": 0,
              "version_major": 2
            },
            "text/plain": [
              "HBox(children=(FloatProgress(value=0.0, max=252907541.0), HTML(value='')))"
            ]
          },
          "metadata": {
            "tags": []
          }
        },
        {
          "output_type": "stream",
          "text": [
            "\n",
            "Extracting datasets/COCO/annotations_trainval2017.zip to datasets/COCO\n"
          ],
          "name": "stdout"
        }
      ]
    },
    {
      "cell_type": "code",
      "metadata": {
        "id": "qWKDs4aIux4R"
      },
      "source": [
        "!rm coco_trainval2017_320x320.tar.gz datasets/COCO/annotations_trainval2017.zip"
      ],
      "id": "qWKDs4aIux4R",
      "execution_count": null,
      "outputs": []
    },
    {
      "cell_type": "code",
      "metadata": {
        "id": "b0OnevrdMmo6"
      },
      "source": [
        "!mkdir /content/datasets/COCO/train\n",
        "!mkdir /content/datasets/COCO/val\n",
        "!mv /content/datasets/COCO/train2017 /content/datasets/COCO/train/\n",
        "!mv /content/datasets/COCO/val2017 /content/datasets/COCO/val/"
      ],
      "id": "b0OnevrdMmo6",
      "execution_count": null,
      "outputs": []
    },
    {
      "cell_type": "markdown",
      "metadata": {
        "id": "zcFgDzJP8MO4"
      },
      "source": [
        "# Import libraries"
      ],
      "id": "zcFgDzJP8MO4"
    },
    {
      "cell_type": "code",
      "metadata": {
        "colab": {
          "base_uri": "https://localhost:8080/"
        },
        "id": "qW7EJRTVnwll",
        "outputId": "9e39d266-5ebd-4b57-f3f1-ad743c07f9f2"
      },
      "source": [
        "%cd Image-Captioning-Transformers"
      ],
      "id": "qW7EJRTVnwll",
      "execution_count": 1,
      "outputs": [
        {
          "output_type": "stream",
          "text": [
            "/content/Image-Captioning-Transformers\n"
          ],
          "name": "stdout"
        }
      ]
    },
    {
      "cell_type": "code",
      "metadata": {
        "id": "07ffdef7-f21f-4450-ae9a-c43b7f79cba0"
      },
      "source": [
        "#hide\n",
        "%load_ext autoreload\n",
        "%autoreload 2"
      ],
      "id": "07ffdef7-f21f-4450-ae9a-c43b7f79cba0",
      "execution_count": 2,
      "outputs": []
    },
    {
      "cell_type": "code",
      "metadata": {
        "id": "98a58c51-77fb-48f7-a6bf-52e6dcd8f93a"
      },
      "source": [
        "# TODO: Try pre trained CLIP"
      ],
      "id": "98a58c51-77fb-48f7-a6bf-52e6dcd8f93a",
      "execution_count": 3,
      "outputs": []
    },
    {
      "cell_type": "code",
      "metadata": {
        "id": "aae2eb10-f8d5-4f47-bccf-c29faf2cdbcd"
      },
      "source": [
        "import torch\n",
        "import torch.nn as nn\n",
        "import torch.nn.functional as F\n",
        "import torchvision\n",
        "import torchvision.models as models\n",
        "from torchvision import datasets, transforms as T"
      ],
      "id": "aae2eb10-f8d5-4f47-bccf-c29faf2cdbcd",
      "execution_count": 4,
      "outputs": []
    },
    {
      "cell_type": "code",
      "metadata": {
        "id": "6332628b-660d-4867-b690-e0642674c4ac"
      },
      "source": [
        "import math\n",
        "import random\n",
        "from random import randint\n",
        "import numpy as np\n",
        "from PIL import Image\n",
        "import matplotlib.pyplot as plt\n",
        "from tqdm.auto import tqdm\n",
        "from collections import OrderedDict"
      ],
      "id": "6332628b-660d-4867-b690-e0642674c4ac",
      "execution_count": 5,
      "outputs": []
    },
    {
      "cell_type": "code",
      "metadata": {
        "id": "fcb4177c-640f-469c-9ac4-d09a19ee8e37"
      },
      "source": [
        "import timm"
      ],
      "id": "fcb4177c-640f-469c-9ac4-d09a19ee8e37",
      "execution_count": 6,
      "outputs": []
    },
    {
      "cell_type": "code",
      "metadata": {
        "id": "dc18b9ba-75cb-4b7a-a909-cb226522e981"
      },
      "source": [
        "plt.rcParams['figure.facecolor'] = 'white'"
      ],
      "id": "dc18b9ba-75cb-4b7a-a909-cb226522e981",
      "execution_count": 7,
      "outputs": []
    },
    {
      "cell_type": "code",
      "metadata": {
        "id": "_mfbg5gKZ8-E"
      },
      "source": [
        "def seed_everything(seed=42):\n",
        "    np.random.seed(seed)\n",
        "    random.seed(seed)\n",
        "    torch.manual_seed(seed)\n",
        "    torch.cuda.manual_seed(seed)\n",
        "    # torch.backends.cudnn.deterministic = True\n",
        "    # torch.backends.cudnn.benchmark = True\n",
        "    \n",
        "seed_everything()"
      ],
      "id": "_mfbg5gKZ8-E",
      "execution_count": 8,
      "outputs": []
    },
    {
      "cell_type": "markdown",
      "metadata": {
        "id": "a45cb594-a2d0-477c-8df2-007a76c106dc"
      },
      "source": [
        "# Preprocessing Transforms"
      ],
      "id": "a45cb594-a2d0-477c-8df2-007a76c106dc"
    },
    {
      "cell_type": "code",
      "metadata": {
        "id": "da9a4f51-0e2b-40fc-ac16-258f576b2794"
      },
      "source": [
        "DEVICE = torch.device(\"cuda\" if torch.cuda.is_available() else \"cpu\")"
      ],
      "id": "da9a4f51-0e2b-40fc-ac16-258f576b2794",
      "execution_count": 9,
      "outputs": []
    },
    {
      "cell_type": "code",
      "metadata": {
        "id": "a236395a-fe32-4980-a822-ef25a85ce00f"
      },
      "source": [
        "input_size = 224"
      ],
      "id": "a236395a-fe32-4980-a822-ef25a85ce00f",
      "execution_count": 10,
      "outputs": []
    },
    {
      "cell_type": "code",
      "metadata": {
        "id": "f1bfd1dc-996b-4b19-88f0-0653ff24989a"
      },
      "source": [
        "# first transform crop while loading, then do rest later in batch on device\n",
        "preproc = {\n",
        "    'train': torch.jit.script(nn.Sequential(\n",
        "        T.RandomResizedCrop(input_size, interpolation=T.InterpolationMode.BICUBIC),\n",
        "        T.RandomHorizontalFlip(input_size),\n",
        "        T.ConvertImageDtype(torch.float),\n",
        "        T.Normalize([0.485, 0.456, 0.406], [0.229, 0.224, 0.225]),\n",
        "    )),\n",
        "    'val': nn.Sequential(\n",
        "        T.Resize(input_size, interpolation=T.InterpolationMode.BICUBIC),\n",
        "        T.CenterCrop(input_size),\n",
        "        T.ConvertImageDtype(torch.float),\n",
        "        T.Normalize([0.485, 0.456, 0.406], [0.229, 0.224, 0.225])\n",
        "    )\n",
        "}"
      ],
      "id": "f1bfd1dc-996b-4b19-88f0-0653ff24989a",
      "execution_count": 12,
      "outputs": []
    },
    {
      "cell_type": "markdown",
      "metadata": {
        "id": "9e2f199d-ba6f-4d12-a3b0-76a5f987f0c9"
      },
      "source": [
        "## Read COCO dataset"
      ],
      "id": "9e2f199d-ba6f-4d12-a3b0-76a5f987f0c9"
    },
    {
      "cell_type": "code",
      "metadata": {
        "id": "5914e791-b1fd-405b-aa65-bdd1d9e13e37"
      },
      "source": [
        "from torch.nn.utils.rnn import pad_sequence\n",
        "from torch.utils.data import DataLoader\n",
        "from torchtext.data.utils import get_tokenizer\n",
        "from torchtext.vocab import build_vocab_from_iterator\n",
        "from torchvision.io import read_file, decode_jpeg, ImageReadMode\n",
        "import torchtext\n",
        "import os"
      ],
      "id": "5914e791-b1fd-405b-aa65-bdd1d9e13e37",
      "execution_count": 13,
      "outputs": []
    },
    {
      "cell_type": "code",
      "metadata": {
        "id": "G_20KeTj8rk0"
      },
      "source": [
        "DATA_DIR = \"../datasets/COCO/\""
      ],
      "id": "G_20KeTj8rk0",
      "execution_count": 14,
      "outputs": []
    },
    {
      "cell_type": "code",
      "metadata": {
        "id": "dX4zo7vW_Enk"
      },
      "source": [
        "class TensorCocoCaptions(datasets.CocoCaptions):\n",
        "    def __getitem__(self, index: int):\n",
        "        return super().__getitem__(index % len(self.ids))\n",
        "\n",
        "    def _load_image(self, id: int):\n",
        "        path = self.coco.loadImgs(id)[0][\"file_name\"]\n",
        "        data = read_file(os.path.join(self.root, path))\n",
        "        return data\n",
        "        # return decode_jpeg(data, ImageReadMode.RGB)#, device=DEVICE)"
      ],
      "id": "dX4zo7vW_Enk",
      "execution_count": 15,
      "outputs": []
    },
    {
      "cell_type": "code",
      "metadata": {
        "colab": {
          "base_uri": "https://localhost:8080/"
        },
        "id": "96ca3492-26a4-4310-bec7-44cec5092a62",
        "outputId": "19cd4e1c-8f68-4d4d-d649-9433e7583cec"
      },
      "source": [
        "train_data = TensorCocoCaptions(root=DATA_DIR+\"/train/train2017/\",\n",
        "                                annFile=DATA_DIR+\"/annotations/captions_train2017.json\")\n",
        "\n",
        "val_data = TensorCocoCaptions(root=DATA_DIR+\"/val/val2017/\",\n",
        "                              annFile=DATA_DIR+\"/annotations/captions_val2017.json\")"
      ],
      "id": "96ca3492-26a4-4310-bec7-44cec5092a62",
      "execution_count": 16,
      "outputs": [
        {
          "output_type": "stream",
          "text": [
            "loading annotations into memory...\n",
            "Done (t=0.97s)\n",
            "creating index...\n",
            "index created!\n",
            "loading annotations into memory...\n",
            "Done (t=0.06s)\n",
            "creating index...\n",
            "index created!\n"
          ],
          "name": "stdout"
        }
      ]
    },
    {
      "cell_type": "markdown",
      "metadata": {
        "id": "93d1c495-f3d0-4b58-bb88-286530849969"
      },
      "source": [
        "## Tokenizer and Build Vocab"
      ],
      "id": "93d1c495-f3d0-4b58-bb88-286530849969"
    },
    {
      "cell_type": "code",
      "metadata": {
        "id": "b4e10704-bd29-465c-8626-b0a48ee2f01b"
      },
      "source": [
        "tokenizer = get_tokenizer('basic_english')"
      ],
      "id": "b4e10704-bd29-465c-8626-b0a48ee2f01b",
      "execution_count": 17,
      "outputs": []
    },
    {
      "cell_type": "code",
      "metadata": {
        "id": "c84dd7aa-6686-4e2f-8537-919460d0a12c"
      },
      "source": [
        "def yield_tokens(cap_data):\n",
        "    for ann in cap_data.coco.anns.values():\n",
        "        yield tokenizer(ann['caption'])"
      ],
      "id": "c84dd7aa-6686-4e2f-8537-919460d0a12c",
      "execution_count": 18,
      "outputs": []
    },
    {
      "cell_type": "code",
      "metadata": {
        "id": "f8922a7a-5747-4a04-95fc-976a6947a5ba"
      },
      "source": [
        "special_symbols = ['<unk>', '<pad>', '<bos>', '<eos>']\n",
        "en_vocab = build_vocab_from_iterator(yield_tokens(train_data), specials=special_symbols, special_first=True)\n",
        "\n",
        "UNK_IDX, PAD_IDX, BOS_IDX, EOS_IDX = en_vocab(special_symbols)\n",
        "en_vocab.set_default_index(UNK_IDX)"
      ],
      "id": "f8922a7a-5747-4a04-95fc-976a6947a5ba",
      "execution_count": 19,
      "outputs": []
    },
    {
      "cell_type": "code",
      "metadata": {
        "colab": {
          "base_uri": "https://localhost:8080/"
        },
        "id": "wRJA2NEq52Rh",
        "outputId": "43262c0a-81f9-45e9-ec64-7b2c726e25d1"
      },
      "source": [
        "len(en_vocab)"
      ],
      "id": "wRJA2NEq52Rh",
      "execution_count": 20,
      "outputs": [
        {
          "output_type": "execute_result",
          "data": {
            "text/plain": [
              "28940"
            ]
          },
          "metadata": {
            "tags": []
          },
          "execution_count": 20
        }
      ]
    },
    {
      "cell_type": "markdown",
      "metadata": {
        "id": "6d493c53-ce30-443e-936e-a1dac5270477"
      },
      "source": [
        "## Pretrained Glove Embeddings (not used rn)"
      ],
      "id": "6d493c53-ce30-443e-936e-a1dac5270477"
    },
    {
      "cell_type": "code",
      "metadata": {
        "tags": [],
        "id": "893f50d5-adff-459f-a09c-10e001e48d23"
      },
      "source": [
        "# vec = torchtext.vocab.GloVe('6B', dim=300)\n",
        "# unk_vec = vec.vectors.mean(dim=0)\n",
        "# vec.unk_init = lambda x: unk_vec"
      ],
      "id": "893f50d5-adff-459f-a09c-10e001e48d23",
      "execution_count": 21,
      "outputs": []
    },
    {
      "cell_type": "code",
      "metadata": {
        "id": "042950b8-a6d3-494d-997f-1edbc2e53339"
      },
      "source": [
        "# vec.get_vecs_by_tokens(tokens, lower_case_backup=True)"
      ],
      "id": "042950b8-a6d3-494d-997f-1edbc2e53339",
      "execution_count": 22,
      "outputs": []
    },
    {
      "cell_type": "markdown",
      "metadata": {
        "id": "2f978fc3-2bca-40cf-af8a-263371f97577"
      },
      "source": [
        "# Model Parameters"
      ],
      "id": "2f978fc3-2bca-40cf-af8a-263371f97577"
    },
    {
      "cell_type": "code",
      "metadata": {
        "id": "e6f8f439-401b-4dd3-ada8-fbbfcf2beded"
      },
      "source": [
        "import wandb"
      ],
      "id": "e6f8f439-401b-4dd3-ada8-fbbfcf2beded",
      "execution_count": 23,
      "outputs": []
    },
    {
      "cell_type": "code",
      "metadata": {
        "id": "b59efe92-566d-46ab-a91a-6323a855ff40"
      },
      "source": [
        "config_defaults = {\n",
        "    'tgt_vocab_size'    : len(en_vocab),\n",
        "    'BATCH_SIZE'        : 256,\n",
        "    'd_model'           : 512,\n",
        "    'dim_feedforward'   : 2048,\n",
        "    'nheads'            : 8,\n",
        "    'num_decoder_layers': 6,\n",
        "    'dp_rate'           : 0.1,\n",
        "    'encoder'           : 'seresnext50_32x4d',\n",
        "    'activation'        : 'gelu',\n",
        "    'ilr'               : 1,\n",
        "    'betas'             : (0.9, 0.98),\n",
        "    'eps'               : 1e-9,\n",
        "    'use_amp'           : True,\n",
        "    'use_pe'            : True,\n",
        "    'log_interval'      : 5,\n",
        "}\n",
        "CONFIG = config_defaults"
      ],
      "id": "b59efe92-566d-46ab-a91a-6323a855ff40",
      "execution_count": 24,
      "outputs": []
    },
    {
      "cell_type": "code",
      "metadata": {
        "id": "3b5aca5c-bf25-45b8-b3e3-73652fa09a3d"
      },
      "source": [
        "# #hide\n",
        "# run = wandb.init(id='hxqk6fw0', project=\"Image_Captioning_Transformer\", resume='must')\n",
        "# CONFIG = run.config"
      ],
      "id": "3b5aca5c-bf25-45b8-b3e3-73652fa09a3d",
      "execution_count": 25,
      "outputs": []
    },
    {
      "cell_type": "code",
      "metadata": {
        "id": "09f936c7-fd7f-42f6-89d9-d0b4468fb48c",
        "colab": {
          "base_uri": "https://localhost:8080/",
          "height": 136
        },
        "outputId": "394efc29-8e98-49ff-f413-0d8a67116265"
      },
      "source": [
        "# run = wandb.init(project=\"Image_Captioning_Transformer\", entity=\"shivamshrirao\", config=config_defaults)\n",
        "# CONFIG = wandb.config"
      ],
      "id": "09f936c7-fd7f-42f6-89d9-d0b4468fb48c",
      "execution_count": 26,
      "outputs": [
        {
          "output_type": "stream",
          "text": [
            "\u001b[34m\u001b[1mwandb\u001b[0m: Currently logged in as: \u001b[33mshivamshrirao\u001b[0m (use `wandb login --relogin` to force relogin)\n"
          ],
          "name": "stderr"
        },
        {
          "output_type": "display_data",
          "data": {
            "text/html": [
              "\n",
              "                Tracking run with wandb version 0.10.32<br/>\n",
              "                Syncing run <strong style=\"color:#cdcd00\">proud-galaxy-7</strong> to <a href=\"https://wandb.ai\" target=\"_blank\">Weights & Biases</a> <a href=\"https://docs.wandb.com/integrations/jupyter.html\" target=\"_blank\">(Documentation)</a>.<br/>\n",
              "                Project page: <a href=\"https://wandb.ai/shivamshrirao/Image_Captioning_Transformer\" target=\"_blank\">https://wandb.ai/shivamshrirao/Image_Captioning_Transformer</a><br/>\n",
              "                Run page: <a href=\"https://wandb.ai/shivamshrirao/Image_Captioning_Transformer/runs/2ukzgoja\" target=\"_blank\">https://wandb.ai/shivamshrirao/Image_Captioning_Transformer/runs/2ukzgoja</a><br/>\n",
              "                Run data is saved locally in <code>/content/Image-Captioning-Transformers/wandb/run-20210626_053912-2ukzgoja</code><br/><br/>\n",
              "            "
            ],
            "text/plain": [
              "<IPython.core.display.HTML object>"
            ]
          },
          "metadata": {
            "tags": []
          }
        }
      ]
    },
    {
      "cell_type": "markdown",
      "metadata": {
        "id": "8a7920ad-38a9-4fc7-9878-a0765ddac8fd"
      },
      "source": [
        "# Load dataset into batches"
      ],
      "id": "8a7920ad-38a9-4fc7-9878-a0765ddac8fd"
    },
    {
      "cell_type": "code",
      "metadata": {
        "id": "YUyM5TOgAQ8t"
      },
      "source": [
        "from nvidia.dali.pipeline import Pipeline\n",
        "import nvidia.dali.fn as fn\n",
        "import nvidia.dali.types as types\n",
        "from nvidia.dali.plugin.pytorch import DALIClassificationIterator\n",
        "from random import shuffle"
      ],
      "id": "YUyM5TOgAQ8t",
      "execution_count": 27,
      "outputs": []
    },
    {
      "cell_type": "code",
      "metadata": {
        "id": "29m0-RUqRI1v"
      },
      "source": [
        "class ExternalInputIterator(object):\n",
        "    def __init__(self, dataset, batch_size, training=True):\n",
        "        self.dataset = dataset\n",
        "        self.batch_size = batch_size\n",
        "        self.training = training\n",
        "        if self.training: shuffle(train_data.ids)\n",
        "\n",
        "    def __iter__(self):\n",
        "        self.idx = 0\n",
        "        if self.training: shuffle(train_data.ids)\n",
        "        return self\n",
        "\n",
        "    def __next__(self):\n",
        "        img_batch = []\n",
        "        cap_batch = []\n",
        "\n",
        "        if self.idx >= len(self.dataset):\n",
        "            self.__iter__()\n",
        "            raise StopIteration\n",
        "\n",
        "        for _ in range(self.batch_size):\n",
        "            img, caps = self.dataset[self.idx]\n",
        "            img_batch.append(img)\n",
        "            cap = caps[randint(0,len(caps)-1) if self.training else 0]\n",
        "            cap_batch.append(torch.tensor([BOS_IDX] + en_vocab(tokenizer(cap)) + [EOS_IDX]))\n",
        "            self.idx += 1\n",
        "        cap_batch = pad_sequence(cap_batch, batch_first=True, padding_value=PAD_IDX)\n",
        "        return (img_batch, cap_batch)\n",
        "\n",
        "    def __len__(self):\n",
        "        return len(self.dataset)"
      ],
      "id": "29m0-RUqRI1v",
      "execution_count": 28,
      "outputs": []
    },
    {
      "cell_type": "code",
      "metadata": {
        "id": "9aazPtQVh2Aw"
      },
      "source": [
        "def ExternalSourcePipeline(batch_size, num_threads, device_id, external_data, training=True):\n",
        "    pipe = Pipeline(batch_size, num_threads, device_id)\n",
        "    with pipe:\n",
        "        images, labels = fn.external_source(source=external_data, num_outputs=2)\n",
        "        if training:\n",
        "            images = fn.decoders.image_random_crop(images, device='mixed', output_type=types.RGB, num_attempts=100)\n",
        "            mirror = fn.random.coin_flip(probability=0.5)\n",
        "        else:\n",
        "            images = fn.decoders.image(images, device='mixed', output_type=types.RGB)\n",
        "            mirror = False\n",
        "        images = fn.resize(images, device='gpu', resize_shorter=input_size, interp_type=types.INTERP_TRIANGULAR)\n",
        "        images = fn.crop_mirror_normalize(images.gpu(),\n",
        "                                          dtype=types.FLOAT,\n",
        "                                          output_layout=\"CHW\",\n",
        "                                          crop=(input_size, input_size),\n",
        "                                          mean=[0.485 * 255,0.456 * 255,0.406 * 255],\n",
        "                                          std=[0.229 * 255,0.224 * 255,0.225 * 255],\n",
        "                                          mirror=mirror)\n",
        "        labels = labels.gpu()\n",
        "        pipe.set_outputs(images, labels)\n",
        "    return pipe"
      ],
      "id": "9aazPtQVh2Aw",
      "execution_count": 29,
      "outputs": []
    },
    {
      "cell_type": "code",
      "metadata": {
        "id": "32yVBrAC_s_W"
      },
      "source": [
        "train_iter = ExternalInputIterator(train_data, CONFIG['BATCH_SIZE'])\n",
        "pipe = ExternalSourcePipeline(batch_size=CONFIG['BATCH_SIZE'], num_threads=4, device_id = 0, external_data = train_iter)\n",
        "train_loader = DALIClassificationIterator(pipe, dynamic_shape=True, auto_reset=True, size=len(train_iter))\n",
        "\n",
        "val_iter = ExternalInputIterator(val_data, CONFIG['BATCH_SIZE'], training=False)\n",
        "pipe = ExternalSourcePipeline(batch_size=CONFIG['BATCH_SIZE'], num_threads=4, device_id = 0, external_data = val_iter, training=False)\n",
        "val_loader = DALIClassificationIterator(pipe, dynamic_shape=True, auto_reset=True, size=len(val_iter))"
      ],
      "id": "32yVBrAC_s_W",
      "execution_count": 30,
      "outputs": []
    },
    {
      "cell_type": "markdown",
      "metadata": {
        "id": "d0c04da7-ebc6-4ea8-b803-e5529df1668b"
      },
      "source": [
        "# Initialize Model"
      ],
      "id": "d0c04da7-ebc6-4ea8-b803-e5529df1668b"
    },
    {
      "cell_type": "code",
      "metadata": {
        "id": "c58a2731-9751-47bf-a2f1-55a9c008ac33"
      },
      "source": [
        "from imcap.layers import *\n",
        "from imcap.utils import *"
      ],
      "id": "c58a2731-9751-47bf-a2f1-55a9c008ac33",
      "execution_count": 31,
      "outputs": []
    },
    {
      "cell_type": "code",
      "metadata": {
        "id": "3bd77da0-6fa1-4898-93d2-284e362a2f1b"
      },
      "source": [
        "# inp = torch.randn((1,3,224,224))"
      ],
      "id": "3bd77da0-6fa1-4898-93d2-284e362a2f1b",
      "execution_count": 32,
      "outputs": []
    },
    {
      "cell_type": "code",
      "metadata": {
        "id": "56a4b971-a4f9-463b-92ab-17ab738e941b"
      },
      "source": [
        "encoder = timm.create_model(CONFIG['encoder'], pretrained=True, num_classes=0, global_pool='')"
      ],
      "id": "56a4b971-a4f9-463b-92ab-17ab738e941b",
      "execution_count": 33,
      "outputs": []
    },
    {
      "cell_type": "code",
      "metadata": {
        "id": "fdb21928-2cb6-4767-9ce0-7db5746be3f8"
      },
      "source": [
        "# out = encoder(inp).flatten(-2).permute(2,0,1)\n",
        "# out.shape"
      ],
      "id": "fdb21928-2cb6-4767-9ce0-7db5746be3f8",
      "execution_count": 34,
      "outputs": []
    },
    {
      "cell_type": "code",
      "metadata": {
        "id": "d3cd11bf-e7c2-4e98-b8b1-aa37fec2e1b4"
      },
      "source": [
        "# ph = ProjectionHead()\n",
        "# ph(out).shape"
      ],
      "id": "d3cd11bf-e7c2-4e98-b8b1-aa37fec2e1b4",
      "execution_count": 35,
      "outputs": []
    },
    {
      "cell_type": "code",
      "metadata": {
        "id": "c54e00a1-b9e4-4841-befe-6b55ec0f75fd",
        "colab": {
          "base_uri": "https://localhost:8080/"
        },
        "outputId": "34347d15-cabe-4b04-8f5a-27b17d6dfdcf"
      },
      "source": [
        "model = CaptionModel(encoder = encoder,\n",
        "                     vocab_size = CONFIG['tgt_vocab_size'],\n",
        "                     num_decoder_layers = CONFIG['num_decoder_layers'],\n",
        "                     nheads = CONFIG['nheads'],\n",
        "                     d_model = CONFIG['d_model'],\n",
        "                     dim_feedforward = CONFIG['dim_feedforward'],\n",
        "                     dp_rate = CONFIG['dp_rate'],\n",
        "                     activation = CONFIG['activation']).to(DEVICE, non_blocking=True)"
      ],
      "id": "c54e00a1-b9e4-4841-befe-6b55ec0f75fd",
      "execution_count": 43,
      "outputs": [
        {
          "output_type": "stream",
          "text": [
            "/usr/local/lib/python3.7/dist-packages/torch/nn/modules/lazy.py:178: UserWarning: Lazy modules are a new feature under heavy development so changes to the API or functionality can happen at any moment.\n",
            "  warnings.warn('Lazy modules are a new feature under heavy development '\n"
          ],
          "name": "stderr"
        }
      ]
    },
    {
      "cell_type": "code",
      "metadata": {
        "id": "9faa68ed-ccb7-4ead-9e3f-672ed570d141"
      },
      "source": [
        "# img, cap = next(iter(train_loader))\n",
        "# img = img.to(DEVICE)\n",
        "# cap = cap.to(DEVICE)"
      ],
      "id": "9faa68ed-ccb7-4ead-9e3f-672ed570d141",
      "execution_count": 37,
      "outputs": []
    },
    {
      "cell_type": "code",
      "metadata": {
        "tags": [],
        "id": "cad2adf6-29c5-4db2-86ea-3f08d422bc47"
      },
      "source": [
        "# tgt_mask, tgt_pad_mask = subsequent_mask(cap.size(0), DEVICE), padding_mask(cap, PAD_IDX)\n",
        "# tgt_mask.shape, tgt_pad_mask.shape"
      ],
      "id": "cad2adf6-29c5-4db2-86ea-3f08d422bc47",
      "execution_count": 38,
      "outputs": []
    },
    {
      "cell_type": "code",
      "metadata": {
        "id": "0275fc7e-0f6c-427d-9b8c-a9ed6838fe42"
      },
      "source": [
        "# with torch.no_grad():\n",
        "#     o = model(img, cap, tgt_mask, tgt_pad_mask)\n",
        "# o.shape"
      ],
      "id": "0275fc7e-0f6c-427d-9b8c-a9ed6838fe42",
      "execution_count": 39,
      "outputs": []
    },
    {
      "cell_type": "markdown",
      "metadata": {
        "id": "08b4b6bf-c036-429f-b5e5-1d053f3d91e9"
      },
      "source": [
        "# Learning Rate Schedule"
      ],
      "id": "08b4b6bf-c036-429f-b5e5-1d053f3d91e9"
    },
    {
      "cell_type": "code",
      "metadata": {
        "id": "5639c04c-f3f9-4c28-8bff-cdd7bc2fc02a"
      },
      "source": [
        "steps_per_epoch = len(train_loader)"
      ],
      "id": "5639c04c-f3f9-4c28-8bff-cdd7bc2fc02a",
      "execution_count": 40,
      "outputs": []
    },
    {
      "cell_type": "code",
      "metadata": {
        "id": "6336bdd7-aee5-4bd7-b382-cb18e023aa8f"
      },
      "source": [
        "def lr_schedule(step, d_model=512, warmup_steps=2*steps_per_epoch):\n",
        "    # return 1\n",
        "    step = max(1,step)\n",
        "    arg1 = step ** -0.5\n",
        "    arg2 = step * (warmup_steps ** -1.5)\n",
        "    return (d_model ** -0.6) * min(arg1, arg2)"
      ],
      "id": "6336bdd7-aee5-4bd7-b382-cb18e023aa8f",
      "execution_count": 41,
      "outputs": []
    },
    {
      "cell_type": "code",
      "metadata": {
        "colab": {
          "base_uri": "https://localhost:8080/",
          "height": 265
        },
        "id": "ceca2478-81ff-402f-b984-72c19e0391d0",
        "outputId": "881d5e5c-f553-4051-c23e-5279e35a5d2a"
      },
      "source": [
        "plt.plot(list(map(lr_schedule, range(steps_per_epoch*20))))\n",
        "plt.show()"
      ],
      "id": "ceca2478-81ff-402f-b984-72c19e0391d0",
      "execution_count": 42,
      "outputs": [
        {
          "output_type": "display_data",
          "data": {
            "image/png": "[encoded data removed]",
            "text/plain": [
              "<Figure size 432x288 with 1 Axes>"
            ]
          },
          "metadata": {
            "tags": []
          }
        }
      ]
    },
    {
      "cell_type": "markdown",
      "metadata": {
        "id": "dc37d126-9abb-4a3e-8304-cd589dee058e"
      },
      "source": [
        "# Loss Function and Optimizer"
      ],
      "id": "dc37d126-9abb-4a3e-8304-cd589dee058e"
    },
    {
      "cell_type": "code",
      "metadata": {
        "id": "530023ee-432b-4ed8-ba6d-1831dffaebf6"
      },
      "source": [
        "loss_fn = nn.CrossEntropyLoss(ignore_index=PAD_IDX)\n",
        "\n",
        "optimizer = torch.optim.Adam(\n",
        "    filter(lambda p: p.requires_grad, model.parameters()),\n",
        "    lr=CONFIG['ilr'], betas=CONFIG['betas'], eps=CONFIG['eps']\n",
        ")\n",
        "\n",
        "scheduler = torch.optim.lr_scheduler.LambdaLR(optimizer, lr_schedule)\n",
        "\n",
        "scaler = torch.cuda.amp.GradScaler(enabled=CONFIG['use_amp'])"
      ],
      "id": "530023ee-432b-4ed8-ba6d-1831dffaebf6",
      "execution_count": 44,
      "outputs": []
    },
    {
      "cell_type": "markdown",
      "metadata": {
        "id": "4e0f4ddf-43e1-4f85-bc51-99f2651c49ee"
      },
      "source": [
        "# Log model"
      ],
      "id": "4e0f4ddf-43e1-4f85-bc51-99f2651c49ee"
    },
    {
      "cell_type": "code",
      "metadata": {
        "id": "0a37e73c-d84a-4086-a7e0-6358c6b87f6b"
      },
      "source": [
        "# from torch.utils.tensorboard import SummaryWriter"
      ],
      "id": "0a37e73c-d84a-4086-a7e0-6358c6b87f6b",
      "execution_count": 45,
      "outputs": []
    },
    {
      "cell_type": "code",
      "metadata": {
        "id": "3bfdae22-c7a6-49f9-a9e7-6bd1f3e35e88"
      },
      "source": [
        "# writer = SummaryWriter(run.dir+'/tensorboard_logs/imcap')"
      ],
      "id": "3bfdae22-c7a6-49f9-a9e7-6bd1f3e35e88",
      "execution_count": 46,
      "outputs": []
    },
    {
      "cell_type": "code",
      "metadata": {
        "id": "8cbd25a9-e8f5-4b2f-bd7a-3f594ad2f4c5"
      },
      "source": [
        "# img, tgt = next(iter(train_loader))\n",
        "# img = img.to(DEVICE)\n",
        "# tgt = tgt.to(DEVICE)\n",
        "# with torch.no_grad():\n",
        "#     model(img, tgt)\n",
        "# writer.add_graph(model, (img, tgt))\n",
        "# writer.close()\n",
        "# del img, tgt"
      ],
      "id": "8cbd25a9-e8f5-4b2f-bd7a-3f594ad2f4c5",
      "execution_count": 47,
      "outputs": []
    },
    {
      "cell_type": "code",
      "metadata": {
        "colab": {
          "base_uri": "https://localhost:8080/"
        },
        "id": "f7734054-af8a-4823-8b50-66f2e6c86b97",
        "outputId": "d4f82c8f-fa51-45f5-d3fa-011bd5913326"
      },
      "source": [
        "wandb.watch(model, log=None)"
      ],
      "id": "f7734054-af8a-4823-8b50-66f2e6c86b97",
      "execution_count": 48,
      "outputs": [
        {
          "output_type": "execute_result",
          "data": {
            "text/plain": [
              "[<wandb.wandb_torch.TorchGraph at 0x7f51a40dbc90>]"
            ]
          },
          "metadata": {
            "tags": []
          },
          "execution_count": 48
        }
      ]
    },
    {
      "cell_type": "markdown",
      "metadata": {
        "id": "dTJuKcv07aBa"
      },
      "source": [
        "# Training functions"
      ],
      "id": "dTJuKcv07aBa"
    },
    {
      "cell_type": "code",
      "metadata": {
        "id": "95a5da74-3381-46df-aeb0-3d2f6632d97a"
      },
      "source": [
        "from torch.cuda import amp"
      ],
      "id": "95a5da74-3381-46df-aeb0-3d2f6632d97a",
      "execution_count": 49,
      "outputs": []
    },
    {
      "cell_type": "code",
      "metadata": {
        "id": "83b197ac-b9f7-46d9-be5b-a069e61a500b"
      },
      "source": [
        "def train_epoch(model, train_loader, optimizer, scaler, scheduler, epoch=1, use_amp=True, log_interval=10):\n",
        "    model.train()\n",
        "    model.encoder.eval()\n",
        "    losses = 0\n",
        "    with tqdm(enumerate(train_loader), total=len(train_loader), desc=f\"Epoch {epoch}\") as pbar:\n",
        "        for idx, batch in pbar:\n",
        "            img, tgt = batch[0]['data'], batch[0]['label'].transpose(0,1)\n",
        "            img = img.to(DEVICE, non_blocking=True)\n",
        "            tgt = tgt.to(DEVICE, non_blocking=True)\n",
        "            \n",
        "            tgt_inp = tgt[:-1,:]      # give input until before the last word.\n",
        "            tgt_out = tgt[1:, :]      # predict the last word based on input and already predicted sentence. (auto-regressive)\n",
        "\n",
        "            tgt_mask, tgt_pad_mask = subsequent_mask(tgt_inp.size(0), DEVICE), padding_mask(tgt_inp, PAD_IDX)\n",
        "\n",
        "            optimizer.zero_grad(set_to_none=True)\n",
        "            with amp.autocast(enabled=use_amp):\n",
        "                logits = model(img, tgt_inp, tgt_mask, tgt_pad_mask)\n",
        "                loss = loss_fn(logits.reshape(-1, logits.size(-1)), tgt_out.reshape(-1))\n",
        "\n",
        "            scaler.scale(loss).backward()\n",
        "            scaler.step(optimizer)\n",
        "            scaler.update()\n",
        "            scheduler.step()\n",
        "\n",
        "            losses+= loss.detach()\n",
        "            curr_lr = optimizer.param_groups[0]['lr']\n",
        "            info = {'loss': losses/(idx+1), 'lr': curr_lr}\n",
        "\n",
        "            if not idx%log_interval: wandb.log(info)\n",
        "            pbar.set_postfix(info)\n",
        "\n",
        "    optimizer.zero_grad(set_to_none=True)\n",
        "    return losses/len(train_loader)"
      ],
      "id": "83b197ac-b9f7-46d9-be5b-a069e61a500b",
      "execution_count": 72,
      "outputs": []
    },
    {
      "cell_type": "code",
      "metadata": {
        "id": "c06c126d-1c88-4119-a1c9-2a3cd78d4e9b"
      },
      "source": [
        "def evaluate(model, val_loader, use_amp=True):\n",
        "    model.eval()\n",
        "    losses = 0\n",
        "    with tqdm(enumerate(val_loader), total=len(val_loader), desc=\"Evaluating\") as pbar:\n",
        "        for idx, batch in pbar:\n",
        "            img, tgt = batch[0]['data'], batch[0]['label'].transpose(0,1)\n",
        "            img = img.to(DEVICE, non_blocking=True)\n",
        "            tgt = tgt.to(DEVICE, non_blocking=True)\n",
        "\n",
        "\n",
        "            tgt_inp = tgt[:-1,:]      # give input until before the last word.\n",
        "            tgt_out = tgt[1:, :]      # predict the last word based on input and already predicted sentence. (auto-regressive)\n",
        "\n",
        "            tgt_mask, tgt_pad_mask = subsequent_mask(tgt_inp.size(0), DEVICE), padding_mask(tgt_inp, PAD_IDX)\n",
        "            \n",
        "            with amp.autocast(enabled=use_amp):\n",
        "                logits = model(img, tgt_inp, tgt_mask, tgt_pad_mask)\n",
        "                loss = loss_fn(logits.reshape(-1, logits.size(-1)), tgt_out.reshape(-1))\n",
        "\n",
        "            losses+= loss.detach()\n",
        "            pbar.set_postfix({'val_loss': losses/(idx+1)})\n",
        "    return losses/len(val_loader)"
      ],
      "id": "c06c126d-1c88-4119-a1c9-2a3cd78d4e9b",
      "execution_count": 74,
      "outputs": []
    },
    {
      "cell_type": "code",
      "metadata": {
        "id": "e0a69310-dc2b-4bf5-a8e4-35865105342c"
      },
      "source": [
        "# def save_model(model, optimizer, epoch):\n",
        "#     torch.save({\n",
        "#                 'model_state_dict': model.state_dict(),\n",
        "#                 'optimizer_state_dict': optimizer.state_dict(),\n",
        "#                 'epoch': epoch,\n",
        "#                 }, run.dir + '/model.pth')"
      ],
      "id": "e0a69310-dc2b-4bf5-a8e4-35865105342c",
      "execution_count": 75,
      "outputs": []
    },
    {
      "cell_type": "code",
      "metadata": {
        "id": "d3b8e705-710b-4cfa-bf64-a73e8739f8da"
      },
      "source": [
        "init_epoch = 1"
      ],
      "id": "d3b8e705-710b-4cfa-bf64-a73e8739f8da",
      "execution_count": 76,
      "outputs": []
    },
    {
      "cell_type": "code",
      "metadata": {
        "id": "53012613-4bdd-4e1f-abe1-e9c4ee9fa3d3"
      },
      "source": [
        "NUM_EPOCHS = 50"
      ],
      "id": "53012613-4bdd-4e1f-abe1-e9c4ee9fa3d3",
      "execution_count": 77,
      "outputs": []
    },
    {
      "cell_type": "code",
      "metadata": {
        "colab": {
          "base_uri": "https://localhost:8080/"
        },
        "id": "cb9476c9-376f-49f5-a3bd-881210d50d0d",
        "outputId": "f3c54967-d6b1-4cd0-e8d2-b8cc60f4ca68"
      },
      "source": [
        "import gc\n",
        "gc.collect()"
      ],
      "id": "cb9476c9-376f-49f5-a3bd-881210d50d0d",
      "execution_count": 78,
      "outputs": [
        {
          "output_type": "execute_result",
          "data": {
            "text/plain": [
              "928"
            ]
          },
          "metadata": {
            "tags": []
          },
          "execution_count": 78
        }
      ]
    },
    {
      "cell_type": "markdown",
      "metadata": {
        "id": "GGEcLDCH7g7E"
      },
      "source": [
        "# Begin Training"
      ],
      "id": "GGEcLDCH7g7E"
    },
    {
      "cell_type": "code",
      "metadata": {
        "colab": {
          "base_uri": "https://localhost:8080/",
          "height": 181,
          "referenced_widgets": [
            "51308c50016a43b98f082522d945c800",
            "89c165063b234cf2ad6f7ccd8d2a3cca",
            "fa6de682276c4cd89793c1f7739ea82c",
            "999e03bde2ac4aceb3b981c0ec1a06e0",
            "29c7e585289348c1ad5b83df9b61bd89",
            "08c5fd30e0124b9fa1f8042c76e69a93",
            "893cad1e69ed4450b7d56310a05354f8",
            "4d7e7599b2544ef4800c29ab60c28e94",
            "8bec5ada04ed40338660f858b4f917b8",
            "9ac2d61d33684275a43c77d07c340b8f",
            "78013909e8a847fc98573e43314eaaff",
            "d35b2c6b29b846e29c2e898390309eb9",
            "4eec55da03f3414f9c3e5bef3cc8813f",
            "3715ba7d1a484083afb565a99b399136",
            "5271c72db26c42128c534f65c0616f34",
            "7ff6d90045e444798903899c6f750193",
            "ee751e2281bb4a6f9ab910482c0d8b44",
            "d44bca225e7b4847829eff21e4de4f71",
            "5fb8c6ccc8104eb48c2788602d4158ce",
            "5c0a6f9459274f59b431ea3b87a0172a",
            "ae15a60257c547fa99ed235046ae6fc8",
            "af66a552319e4b7cbe948464369e40f2",
            "8d5804875ec8424c840cf6b740e178d1",
            "5cc50794a00a4f7cb6faa36cf16be4aa"
          ]
        },
        "id": "qwpPA5d7o7bK",
        "outputId": "1e6bba3c-6891-4c2f-c5a4-405eda62881d"
      },
      "source": [
        "#collapse-output\n",
        "for epoch in range(init_epoch, NUM_EPOCHS+1):\n",
        "    train_loss = train_epoch(model, train_loader, optimizer, scaler, scheduler,\n",
        "                             epoch, CONFIG['use_amp'], CONFIG['log_interval'])\n",
        "    gc.collect()\n",
        "    with torch.no_grad():\n",
        "        val_loss = evaluate(model, val_loader, CONFIG['use_amp'])\n",
        "    wandb.log({\"val_loss\": val_loss, \"epoch\": epoch})\n",
        "    print(f\"Epoch: {epoch}/{NUM_EPOCHS}, Train loss: {train_loss:.3f}, Val loss: {val_loss:.3f}\\n\")\n",
        "    # if not epoch%10:\n",
        "    #     save_model(model, optimizer, epoch)"
      ],
      "id": "qwpPA5d7o7bK",
      "execution_count": null,
      "outputs": [
        {
          "output_type": "display_data",
          "data": {
            "application/vnd.jupyter.widget-view+json": {
              "model_id": "51308c50016a43b98f082522d945c800",
              "version_minor": 0,
              "version_major": 2
            },
            "text/plain": [
              "HBox(children=(FloatProgress(value=0.0, description='Epoch 1', max=463.0, style=ProgressStyle(description_widt…"
            ]
          },
          "metadata": {
            "tags": []
          }
        },
        {
          "output_type": "stream",
          "text": [
            "\n"
          ],
          "name": "stdout"
        },
        {
          "output_type": "display_data",
          "data": {
            "application/vnd.jupyter.widget-view+json": {
              "model_id": "8bec5ada04ed40338660f858b4f917b8",
              "version_minor": 0,
              "version_major": 2
            },
            "text/plain": [
              "HBox(children=(FloatProgress(value=0.0, description='Evaluating', max=20.0, style=ProgressStyle(description_wi…"
            ]
          },
          "metadata": {
            "tags": []
          }
        },
        {
          "output_type": "stream",
          "text": [
            "\n",
            "Epoch: 1/50, Train loss: 4.596, Val loss: 2.760\n",
            "\n"
          ],
          "name": "stdout"
        },
        {
          "output_type": "display_data",
          "data": {
            "application/vnd.jupyter.widget-view+json": {
              "model_id": "ee751e2281bb4a6f9ab910482c0d8b44",
              "version_minor": 0,
              "version_major": 2
            },
            "text/plain": [
              "HBox(children=(FloatProgress(value=0.0, description='Epoch 2', max=463.0, style=ProgressStyle(description_widt…"
            ]
          },
          "metadata": {
            "tags": []
          }
        }
      ]
    },
    {
      "cell_type": "code",
      "metadata": {
        "id": "0694d7b8-8858-40c4-9aa5-06af829377f9"
      },
      "source": [
        "init_epoch = epoch"
      ],
      "id": "0694d7b8-8858-40c4-9aa5-06af829377f9",
      "execution_count": null,
      "outputs": []
    },
    {
      "cell_type": "markdown",
      "metadata": {
        "id": "f954d0ba-cc4e-4b9d-bec3-202183c517ca"
      },
      "source": [
        "# Make Predictions"
      ],
      "id": "f954d0ba-cc4e-4b9d-bec3-202183c517ca"
    },
    {
      "cell_type": "code",
      "metadata": {
        "id": "34341b74-edb8-4e7c-8f05-43b3c0f0db2a"
      },
      "source": [
        "def greedy_decode(model, img, max_len=100, start_symbol=BOS_IDX):\n",
        "    model.eval()\n",
        "    img = img.to(DEVICE, non_blocking=True)\n",
        "    enc_output = model.encode_image(img)\n",
        "    tgt = torch.ones(1, 1).fill_(start_symbol).long().to(DEVICE, non_blocking=True)\n",
        "    for i in range(max_len):\n",
        "        tgt_mask = subsequent_mask(tgt.size(0), DEVICE)\n",
        "        out = model.decode_text(tgt, enc_output, tgt_mask)\n",
        "        out = out.transpose(0,1)\n",
        "        prob = model.generator(out[:,-1])\n",
        "        _, next_word = torch.max(prob, dim = 1)\n",
        "        next_word = next_word.item()\n",
        "        tgt = torch.cat([tgt, torch.ones(1, 1).fill_(next_word).long().to(DEVICE)], dim=0)\n",
        "        if next_word == EOS_IDX:\n",
        "            break\n",
        "    return tgt\n",
        "\n",
        "def generate_caption(model, img, tgt_vocab, tokenizer):\n",
        "    with torch.no_grad():\n",
        "        tgt = greedy_decode(model, img, max_len=100, start_symbol=BOS_IDX).flatten()\n",
        "    return \" \".join(tgt_vocab.lookup_tokens(tgt.tolist())).replace(\"<bos>\", \"\").replace(\"<eos>\", \"\")"
      ],
      "id": "34341b74-edb8-4e7c-8f05-43b3c0f0db2a",
      "execution_count": null,
      "outputs": []
    },
    {
      "cell_type": "code",
      "metadata": {
        "id": "04031a04-edae-4fa3-b40a-190f1aa96570"
      },
      "source": [
        "import os\n",
        "import random"
      ],
      "id": "04031a04-edae-4fa3-b40a-190f1aa96570",
      "execution_count": null,
      "outputs": []
    },
    {
      "cell_type": "code",
      "metadata": {
        "id": "4391b037-7a0a-4179-82e9-d7e9e1ff6c11"
      },
      "source": [
        "paths = os.listdir(\"../datasets/COCO/val2017/\")"
      ],
      "id": "4391b037-7a0a-4179-82e9-d7e9e1ff6c11",
      "execution_count": null,
      "outputs": []
    },
    {
      "cell_type": "code",
      "metadata": {
        "id": "a0c18f31-27a8-49d7-b60a-e9f09f12861a"
      },
      "source": [
        "img = Image.open(\"../datasets/COCO/val2017/\"+random.choice(paths))\n",
        "img"
      ],
      "id": "a0c18f31-27a8-49d7-b60a-e9f09f12861a",
      "execution_count": null,
      "outputs": []
    },
    {
      "cell_type": "code",
      "metadata": {
        "colab": {
          "base_uri": "https://localhost:8080/",
          "height": 35
        },
        "id": "d482f555-4b36-4c19-8828-4d2b84dc7bf7",
        "tags": [],
        "outputId": "2895dbd6-580b-4a3e-81bf-2b4efcb51240"
      },
      "source": [
        "generate_caption(model, preproc['val'](img)[None,:], en_vocab, tokenizer)"
      ],
      "id": "d482f555-4b36-4c19-8828-4d2b84dc7bf7",
      "execution_count": null,
      "outputs": [
        {
          "output_type": "execute_result",
          "data": {
            "text/plain": [
              "' a plate of food with broccoli and vegetables . '"
            ]
          },
          "metadata": {
            "tags": []
          },
          "execution_count": 316
        }
      ]
    },
    {
      "cell_type": "code",
      "metadata": {
        "id": "17db2ed5-573d-4926-8567-3637b42338ae"
      },
      "source": [
        ""
      ],
      "id": "17db2ed5-573d-4926-8567-3637b42338ae",
      "execution_count": null,
      "outputs": []
    }
  ]
}