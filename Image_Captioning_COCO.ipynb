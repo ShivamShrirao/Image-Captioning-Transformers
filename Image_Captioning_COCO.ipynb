{
 "cells": [
  {
   "cell_type": "code",
   "execution_count": 1,
   "id": "07ffdef7-f21f-4450-ae9a-c43b7f79cba0",
   "metadata": {},
   "outputs": [],
   "source": [
    "#hide\n",
    "%load_ext autoreload\n",
    "%autoreload 2"
   ]
  },
  {
   "cell_type": "markdown",
   "id": "7840ce0e-dee1-4323-9eeb-05fda2898d8f",
   "metadata": {},
   "source": [
    "# Image Captioning with Transformers"
   ]
  },
  {
   "cell_type": "code",
   "execution_count": 2,
   "id": "aae2eb10-f8d5-4f47-bccf-c29faf2cdbcd",
   "metadata": {},
   "outputs": [],
   "source": [
    "import torch\n",
    "import torch.nn as nn\n",
    "import torch.nn.functional as F\n",
    "import torchvision.models as models\n",
    "from torchvision import datasets, transforms as T"
   ]
  },
  {
   "cell_type": "code",
   "execution_count": 3,
   "id": "6332628b-660d-4867-b690-e0642674c4ac",
   "metadata": {},
   "outputs": [],
   "source": [
    "import math\n",
    "from random import randint\n",
    "import numpy as np\n",
    "from PIL import Image\n",
    "import matplotlib.pyplot as plt\n",
    "from tqdm.auto import tqdm\n",
    "from collections import OrderedDict"
   ]
  },
  {
   "cell_type": "code",
   "execution_count": 4,
   "id": "fcb4177c-640f-469c-9ac4-d09a19ee8e37",
   "metadata": {},
   "outputs": [],
   "source": [
    "import timm"
   ]
  },
  {
   "cell_type": "code",
   "execution_count": 5,
   "id": "dc18b9ba-75cb-4b7a-a909-cb226522e981",
   "metadata": {},
   "outputs": [],
   "source": [
    "plt.rcParams['figure.facecolor'] = 'white'"
   ]
  },
  {
   "cell_type": "code",
   "execution_count": 6,
   "id": "98a58c51-77fb-48f7-a6bf-52e6dcd8f93a",
   "metadata": {},
   "outputs": [],
   "source": [
    "# TODO: Try pre trained CLIP"
   ]
  },
  {
   "cell_type": "markdown",
   "id": "819264fd-bf0c-4862-9dbd-c4d2504a7071",
   "metadata": {},
   "source": [
    "# Download Dataset and Annotations"
   ]
  },
  {
   "cell_type": "code",
   "execution_count": 7,
   "id": "39cda7a8-5913-4ff8-a871-d56f9cc16750",
   "metadata": {},
   "outputs": [],
   "source": [
    "from torchvision.datasets.utils import download_and_extract_archive"
   ]
  },
  {
   "cell_type": "code",
   "execution_count": 8,
   "id": "3655305d-ea2c-453f-ae48-2fc04010398b",
   "metadata": {},
   "outputs": [],
   "source": [
    "DATA_DIR = \"../datasets/COCO\""
   ]
  },
  {
   "cell_type": "code",
   "execution_count": 9,
   "id": "ef7b85f2-5b20-48d0-a94a-8bfc4221309c",
   "metadata": {},
   "outputs": [],
   "source": [
    "# download_and_extract_archive(\"http://images.cocodataset.org/zips/train2017.zip\",\n",
    "#                              download_root=DATA_DIR,\n",
    "#                              remove_finished=True)"
   ]
  },
  {
   "cell_type": "code",
   "execution_count": 10,
   "id": "1e4007d9-9bc7-4d75-82ee-295e43b312cb",
   "metadata": {},
   "outputs": [],
   "source": [
    "# download_and_extract_archive(\"http://images.cocodataset.org/zips/val2017.zip\",\n",
    "#                              download_root=DATA_DIR,\n",
    "#                              remove_finished=True)"
   ]
  },
  {
   "cell_type": "code",
   "execution_count": 11,
   "id": "e91386a8-b174-4720-af37-a6b2704eb269",
   "metadata": {},
   "outputs": [],
   "source": [
    "# download_and_extract_archive(\"http://images.cocodataset.org/annotations/annotations_trainval2017.zip\",\n",
    "#                              download_root=DATA_DIR,\n",
    "#                              remove_finished=True)"
   ]
  },
  {
   "cell_type": "code",
   "execution_count": 12,
   "id": "da9a4f51-0e2b-40fc-ac16-258f576b2794",
   "metadata": {},
   "outputs": [],
   "source": [
    "device = torch.device(\"cuda\" if torch.cuda.is_available() else \"cpu\")"
   ]
  },
  {
   "cell_type": "markdown",
   "id": "a45cb594-a2d0-477c-8df2-007a76c106dc",
   "metadata": {},
   "source": [
    "# Preprocessing Transforms"
   ]
  },
  {
   "cell_type": "code",
   "execution_count": 13,
   "id": "a236395a-fe32-4980-a822-ef25a85ce00f",
   "metadata": {},
   "outputs": [],
   "source": [
    "input_size = 224"
   ]
  },
  {
   "cell_type": "code",
   "execution_count": 223,
   "id": "f1bfd1dc-996b-4b19-88f0-0653ff24989a",
   "metadata": {},
   "outputs": [],
   "source": [
    "preproc = {\n",
    "    'train': T.Compose([\n",
    "        T.RandomResizedCrop(input_size, interpolation=T.InterpolationMode.BICUBIC),\n",
    "        T.RandomHorizontalFlip(input_size),\n",
    "        lambda image: image.convert(\"RGB\"),\n",
    "        T.ToTensor(),\n",
    "        T.Normalize([0.485, 0.456, 0.406], [0.229, 0.224, 0.225]),\n",
    "    ]),\n",
    "    'val': T.Compose([\n",
    "        T.Resize(input_size, interpolation=T.InterpolationMode.BICUBIC),\n",
    "        T.CenterCrop(input_size),\n",
    "        lambda image: image.convert(\"RGB\"),\n",
    "        T.ToTensor(),\n",
    "        T.Normalize([0.485, 0.456, 0.406], [0.229, 0.224, 0.225])\n",
    "    ]),\n",
    "}"
   ]
  },
  {
   "cell_type": "markdown",
   "id": "9ebe13be-2bbb-45f2-9a8a-5cd3a209d4e6",
   "metadata": {},
   "source": [
    "# Dataset utils"
   ]
  },
  {
   "cell_type": "code",
   "execution_count": 15,
   "id": "5914e791-b1fd-405b-aa65-bdd1d9e13e37",
   "metadata": {},
   "outputs": [],
   "source": [
    "from torch.nn.utils.rnn import pad_sequence\n",
    "from torch.utils.data import DataLoader\n",
    "from torchtext.data.utils import get_tokenizer\n",
    "from torchtext.vocab import build_vocab_from_iterator\n",
    "import torchtext"
   ]
  },
  {
   "cell_type": "markdown",
   "id": "9e2f199d-ba6f-4d12-a3b0-76a5f987f0c9",
   "metadata": {},
   "source": [
    "## Read COCO dataset"
   ]
  },
  {
   "cell_type": "code",
   "execution_count": 16,
   "id": "96ca3492-26a4-4310-bec7-44cec5092a62",
   "metadata": {},
   "outputs": [
    {
     "name": "stdout",
     "output_type": "stream",
     "text": [
      "loading annotations into memory...\n",
      "Done (t=0.10s)\n",
      "creating index...\n",
      "index created!\n"
     ]
    }
   ],
   "source": [
    "cap_data = datasets.CocoCaptions(root=DATA_DIR+\"/val2017/\",\n",
    "                                 annFile=DATA_DIR+\"/annotations/captions_val2017.json\",\n",
    "                                 transform=preproc['val'])"
   ]
  },
  {
   "cell_type": "markdown",
   "id": "93d1c495-f3d0-4b58-bb88-286530849969",
   "metadata": {},
   "source": [
    "## Tokenizer and Build Vocab"
   ]
  },
  {
   "cell_type": "code",
   "execution_count": 17,
   "id": "b4e10704-bd29-465c-8626-b0a48ee2f01b",
   "metadata": {},
   "outputs": [],
   "source": [
    "tokenizer = get_tokenizer('basic_english')"
   ]
  },
  {
   "cell_type": "code",
   "execution_count": 18,
   "id": "c84dd7aa-6686-4e2f-8537-919460d0a12c",
   "metadata": {},
   "outputs": [],
   "source": [
    "def yield_tokens(cap_data):\n",
    "    for ann in cap_data.coco.anns.values():\n",
    "        yield tokenizer(ann['caption'])"
   ]
  },
  {
   "cell_type": "code",
   "execution_count": 19,
   "id": "f8922a7a-5747-4a04-95fc-976a6947a5ba",
   "metadata": {},
   "outputs": [],
   "source": [
    "special_symbols = ['<unk>', '<pad>', '<bos>', '<eos>']\n",
    "en_vocab = build_vocab_from_iterator(yield_tokens(cap_data), specials=special_symbols, special_first=True)\n",
    "\n",
    "UNK_IDX, PAD_IDX, BOS_IDX, EOS_IDX = en_vocab(special_symbols)\n",
    "en_vocab.set_default_index(UNK_IDX)"
   ]
  },
  {
   "cell_type": "markdown",
   "id": "6d493c53-ce30-443e-936e-a1dac5270477",
   "metadata": {},
   "source": [
    "## Pretrained Glove Embeddings (not used rn)"
   ]
  },
  {
   "cell_type": "code",
   "execution_count": 20,
   "id": "893f50d5-adff-459f-a09c-10e001e48d23",
   "metadata": {
    "tags": []
   },
   "outputs": [],
   "source": [
    "# vec = torchtext.vocab.GloVe('6B', dim=300)"
   ]
  },
  {
   "cell_type": "code",
   "execution_count": 21,
   "id": "475fa54b-d223-4c12-b55b-92d83b797d44",
   "metadata": {},
   "outputs": [],
   "source": [
    "# unk_vec = vec.vectors.mean(dim=0)"
   ]
  },
  {
   "cell_type": "code",
   "execution_count": 22,
   "id": "ba5273de-16eb-472f-9126-fb8c15761124",
   "metadata": {},
   "outputs": [],
   "source": [
    "# vec.unk_init = lambda x: unk_vec"
   ]
  },
  {
   "cell_type": "code",
   "execution_count": 23,
   "id": "042950b8-a6d3-494d-997f-1edbc2e53339",
   "metadata": {},
   "outputs": [],
   "source": [
    "# vec.get_vecs_by_tokens(tokens, lower_case_backup=True)"
   ]
  },
  {
   "cell_type": "markdown",
   "id": "2f978fc3-2bca-40cf-af8a-263371f97577",
   "metadata": {},
   "source": [
    "# Model Parameters"
   ]
  },
  {
   "cell_type": "code",
   "execution_count": 24,
   "id": "e6f8f439-401b-4dd3-ada8-fbbfcf2beded",
   "metadata": {},
   "outputs": [],
   "source": [
    "import wandb"
   ]
  },
  {
   "cell_type": "code",
   "execution_count": 25,
   "id": "b59efe92-566d-46ab-a91a-6323a855ff40",
   "metadata": {},
   "outputs": [],
   "source": [
    "config_defaults = {\n",
    "    'tgt_vocab_size'    : len(en_vocab),\n",
    "    'BATCH_SIZE'        : 32,\n",
    "    'd_model'           : 512,\n",
    "    'dim_feedforward'   : 2048,\n",
    "    'nheads'            : 8,\n",
    "    'num_decoder_layers': 6,\n",
    "    'dp_rate'           : 0.1,\n",
    "    'encoder'           : 'seresnext50_32x4d',\n",
    "    'activation'        : 'gelu',\n",
    "    'ilr'               : 1,\n",
    "    'betas'             : (0.9, 0.98),\n",
    "    'eps'               : 1e-9,\n",
    "    'use_amp'           : True,\n",
    "    'use_pe'            : True,\n",
    "    'log_interval'      : 5,\n",
    "}\n",
    "CONFIG = config_defaults"
   ]
  },
  {
   "cell_type": "code",
   "execution_count": 26,
   "id": "3b5aca5c-bf25-45b8-b3e3-73652fa09a3d",
   "metadata": {},
   "outputs": [],
   "source": [
    "#hide\n",
    "# run = wandb.init(id='352vnm9l', project=\"Image_Captioning_Transformer\", resume='must')\n",
    "# CONFIG = run.config"
   ]
  },
  {
   "cell_type": "code",
   "execution_count": 27,
   "id": "09f936c7-fd7f-42f6-89d9-d0b4468fb48c",
   "metadata": {},
   "outputs": [],
   "source": [
    "# run = wandb.init(project=\"Image_Captioning_Transformer\", entity=\"shivamshrirao\", config=config_defaults)\n",
    "# CONFIG = wandb.config"
   ]
  },
  {
   "cell_type": "markdown",
   "id": "8a7920ad-38a9-4fc7-9878-a0765ddac8fd",
   "metadata": {},
   "source": [
    "# Load dataset into batches"
   ]
  },
  {
   "cell_type": "code",
   "execution_count": 28,
   "id": "d5214ef6-ef1f-4ae6-8b26-d007691a1054",
   "metadata": {},
   "outputs": [],
   "source": [
    "def generate_batch(data_batch):\n",
    "    img_batch, cap_batch = [], []\n",
    "    for img, caps in data_batch:\n",
    "        img_batch.append(img)\n",
    "        cap = caps[randint(0,len(caps)-1)]\n",
    "        cap_batch.append(torch.tensor([BOS_IDX] + en_vocab(tokenizer(cap)) + [EOS_IDX]))\n",
    "\n",
    "    cap_batch = pad_sequence(cap_batch, batch_first=False, padding_value=PAD_IDX)\n",
    "    return torch.stack(img_batch), cap_batch"
   ]
  },
  {
   "cell_type": "code",
   "execution_count": 29,
   "id": "88b4a339-32b8-4479-a0c3-f062ba305458",
   "metadata": {},
   "outputs": [],
   "source": [
    "val_loader = torch.utils.data.DataLoader(cap_data,\n",
    "                                         batch_size=CONFIG['BATCH_SIZE'],\n",
    "                                         shuffle=True,\n",
    "                                         num_workers=3,\n",
    "                                         pin_memory=True,\n",
    "                                         collate_fn=generate_batch)"
   ]
  },
  {
   "cell_type": "markdown",
   "id": "d0c04da7-ebc6-4ea8-b803-e5529df1668b",
   "metadata": {},
   "source": [
    "# Initialize Model"
   ]
  },
  {
   "cell_type": "code",
   "execution_count": 30,
   "id": "c58a2731-9751-47bf-a2f1-55a9c008ac33",
   "metadata": {},
   "outputs": [],
   "source": [
    "from imcap.layers import *\n",
    "from imcap.utils import *"
   ]
  },
  {
   "cell_type": "code",
   "execution_count": 31,
   "id": "3bd77da0-6fa1-4898-93d2-284e362a2f1b",
   "metadata": {},
   "outputs": [],
   "source": [
    "# inp = torch.randn((1,3,224,224))"
   ]
  },
  {
   "cell_type": "code",
   "execution_count": 32,
   "id": "56a4b971-a4f9-463b-92ab-17ab738e941b",
   "metadata": {},
   "outputs": [],
   "source": [
    "encoder = timm.create_model(CONFIG['encoder'], pretrained=False, num_classes=0, global_pool='')"
   ]
  },
  {
   "cell_type": "code",
   "execution_count": 33,
   "id": "fdb21928-2cb6-4767-9ce0-7db5746be3f8",
   "metadata": {},
   "outputs": [],
   "source": [
    "# out = encoder(inp).flatten(-2).permute(2,0,1)"
   ]
  },
  {
   "cell_type": "code",
   "execution_count": 34,
   "id": "356b3d94-866c-4528-bfcb-7d1ec7b95e71",
   "metadata": {},
   "outputs": [],
   "source": [
    "# out.shape"
   ]
  },
  {
   "cell_type": "code",
   "execution_count": 35,
   "id": "d3cd11bf-e7c2-4e98-b8b1-aa37fec2e1b4",
   "metadata": {},
   "outputs": [],
   "source": [
    "# ph = ProjectionHead()"
   ]
  },
  {
   "cell_type": "code",
   "execution_count": 36,
   "id": "9b9131a7-aaa4-4294-a456-abf6036b77bc",
   "metadata": {},
   "outputs": [],
   "source": [
    "# ph(out).shape"
   ]
  },
  {
   "cell_type": "code",
   "execution_count": 37,
   "id": "c54e00a1-b9e4-4841-befe-6b55ec0f75fd",
   "metadata": {},
   "outputs": [
    {
     "name": "stderr",
     "output_type": "stream",
     "text": [
      "/usr/lib/python3.9/site-packages/torch/nn/modules/lazy.py:178: UserWarning: Lazy modules are a new feature under heavy development so changes to the API or functionality can happen at any moment.\n",
      "  warnings.warn('Lazy modules are a new feature under heavy development '\n"
     ]
    }
   ],
   "source": [
    "model = CaptionModel(encoder = encoder,\n",
    "                     vocab_size = CONFIG['tgt_vocab_size'],\n",
    "                     num_decoder_layers = CONFIG['num_decoder_layers'],\n",
    "                     nheads = CONFIG['nheads'],\n",
    "                     d_model = CONFIG['d_model'],\n",
    "                     dim_feedforward = CONFIG['dim_feedforward'],\n",
    "                     dp_rate = CONFIG['dp_rate'],\n",
    "                     activation = CONFIG['activation']).to(device)"
   ]
  },
  {
   "cell_type": "code",
   "execution_count": 38,
   "id": "9faa68ed-ccb7-4ead-9e3f-672ed570d141",
   "metadata": {},
   "outputs": [],
   "source": [
    "# img, cap = next(iter(val_loader))"
   ]
  },
  {
   "cell_type": "code",
   "execution_count": 39,
   "id": "c337fbde-660b-4f56-b131-ef9913a0c06f",
   "metadata": {},
   "outputs": [],
   "source": [
    "# img = img.to(device)\n",
    "# cap = cap.to(device)"
   ]
  },
  {
   "cell_type": "code",
   "execution_count": 40,
   "id": "cad2adf6-29c5-4db2-86ea-3f08d422bc47",
   "metadata": {
    "tags": []
   },
   "outputs": [],
   "source": [
    "# tgt_mask, tgt_pad_mask = subsequent_mask(cap.size(0), device), padding_mask(cap, PAD_IDX)\n",
    "# tgt_mask.shape, tgt_pad_mask.shape"
   ]
  },
  {
   "cell_type": "code",
   "execution_count": 41,
   "id": "0275fc7e-0f6c-427d-9b8c-a9ed6838fe42",
   "metadata": {},
   "outputs": [],
   "source": [
    "# with torch.no_grad():\n",
    "#     o = model(img, cap, tgt_mask, tgt_pad_mask)"
   ]
  },
  {
   "cell_type": "code",
   "execution_count": 42,
   "id": "ce8b30f4-bd92-450f-9dab-a141189dd07b",
   "metadata": {},
   "outputs": [],
   "source": [
    "# o.shape"
   ]
  },
  {
   "cell_type": "markdown",
   "id": "08b4b6bf-c036-429f-b5e5-1d053f3d91e9",
   "metadata": {},
   "source": [
    "# Learning Rate Schedule"
   ]
  },
  {
   "cell_type": "code",
   "execution_count": 43,
   "id": "5639c04c-f3f9-4c28-8bff-cdd7bc2fc02a",
   "metadata": {},
   "outputs": [],
   "source": [
    "steps_per_epoch = len(val_loader)"
   ]
  },
  {
   "cell_type": "code",
   "execution_count": 44,
   "id": "6336bdd7-aee5-4bd7-b382-cb18e023aa8f",
   "metadata": {},
   "outputs": [],
   "source": [
    "def lr_schedule(step, d_model=512, warmup_steps=2*steps_per_epoch):\n",
    "    # return 1\n",
    "    step = max(1,step)\n",
    "    arg1 = step ** -0.5\n",
    "    arg2 = step * (warmup_steps ** -1.5)\n",
    "    return (d_model ** -0.7) * min(arg1, arg2)"
   ]
  },
  {
   "cell_type": "code",
   "execution_count": 45,
   "id": "ceca2478-81ff-402f-b984-72c19e0391d0",
   "metadata": {},
   "outputs": [
    {
     "data": {
      "image/png": "[encoded data removed]",
      "text/plain": [
       "<Figure size 432x288 with 1 Axes>"
      ]
     },
     "metadata": {},
     "output_type": "display_data"
    }
   ],
   "source": [
    "plt.plot(list(map(lr_schedule, range(steps_per_epoch*20))))\n",
    "plt.show()"
   ]
  },
  {
   "cell_type": "markdown",
   "id": "dc37d126-9abb-4a3e-8304-cd589dee058e",
   "metadata": {},
   "source": [
    "# Loss Function and Optimizer"
   ]
  },
  {
   "cell_type": "code",
   "execution_count": 46,
   "id": "530023ee-432b-4ed8-ba6d-1831dffaebf6",
   "metadata": {},
   "outputs": [],
   "source": [
    "loss_fn = nn.CrossEntropyLoss(ignore_index=PAD_IDX)\n",
    "\n",
    "optimizer = torch.optim.Adam(\n",
    "    filter(lambda p: p.requires_grad, model.parameters()),\n",
    "    lr=CONFIG['ilr'], betas=CONFIG['betas'], eps=CONFIG['eps']\n",
    ")\n",
    "\n",
    "scheduler = torch.optim.lr_scheduler.LambdaLR(optimizer, lr_schedule)\n",
    "\n",
    "scaler = torch.cuda.amp.GradScaler(enabled=CONFIG['use_amp'])"
   ]
  },
  {
   "cell_type": "markdown",
   "id": "4e0f4ddf-43e1-4f85-bc51-99f2651c49ee",
   "metadata": {},
   "source": [
    "# Log model"
   ]
  },
  {
   "cell_type": "code",
   "execution_count": 47,
   "id": "0a37e73c-d84a-4086-a7e0-6358c6b87f6b",
   "metadata": {},
   "outputs": [],
   "source": [
    "from torch.utils.tensorboard import SummaryWriter"
   ]
  },
  {
   "cell_type": "code",
   "execution_count": 48,
   "id": "3bfdae22-c7a6-49f9-a9e7-6bd1f3e35e88",
   "metadata": {},
   "outputs": [],
   "source": [
    "# writer = SummaryWriter(run.dir+'/tensorboard_logs/imcap')"
   ]
  },
  {
   "cell_type": "code",
   "execution_count": 49,
   "id": "8cbd25a9-e8f5-4b2f-bd7a-3f594ad2f4c5",
   "metadata": {},
   "outputs": [],
   "source": [
    "# src, tgt = next(iter(train_iter))\n",
    "# src = src.to(device)\n",
    "# tgt = tgt.to(device)\n",
    "# writer.add_graph(model, (src, tgt))\n",
    "# writer.close()\n",
    "# del src, tgt"
   ]
  },
  {
   "cell_type": "code",
   "execution_count": 50,
   "id": "f7734054-af8a-4823-8b50-66f2e6c86b97",
   "metadata": {},
   "outputs": [],
   "source": [
    "# wandb.watch(model, log=None)"
   ]
  },
  {
   "cell_type": "code",
   "execution_count": 51,
   "id": "95a5da74-3381-46df-aeb0-3d2f6632d97a",
   "metadata": {},
   "outputs": [],
   "source": [
    "from torch.cuda import amp"
   ]
  },
  {
   "cell_type": "code",
   "execution_count": 68,
   "id": "83b197ac-b9f7-46d9-be5b-a069e61a500b",
   "metadata": {},
   "outputs": [],
   "source": [
    "def train_epoch(model, train_iter, optimizer, scaler, scheduler, epoch=1, use_amp=True, log_interval=10):\n",
    "    model.train()\n",
    "    model.encoder.eval()\n",
    "    losses = 0\n",
    "    with tqdm(enumerate(train_iter), total=len(train_iter), desc=f\"Epoch {epoch}\") as pbar:\n",
    "        for idx, (img, tgt) in pbar:\n",
    "            img = img.to(device)\n",
    "            tgt = tgt.to(device)\n",
    "\n",
    "            tgt_inp = tgt[:-1,:]      # give input until before the last word.\n",
    "            tgt_out = tgt[1:, :]      # predict the last word based on input and already predicted sentence. (auto-regressive)\n",
    "\n",
    "            tgt_mask, tgt_pad_mask = subsequent_mask(tgt_inp.size(0), device), padding_mask(tgt_inp, PAD_IDX)\n",
    "\n",
    "            optimizer.zero_grad(set_to_none=True)\n",
    "            with amp.autocast(enabled=use_amp):\n",
    "                logits = model(img, tgt_inp, tgt_mask, tgt_pad_mask)\n",
    "                loss = loss_fn(logits.reshape(-1, logits.size(-1)), tgt_out.reshape(-1))\n",
    "\n",
    "            scaler.scale(loss).backward()\n",
    "            scaler.step(optimizer)\n",
    "            scaler.update()\n",
    "            scheduler.step()\n",
    "\n",
    "            losses+= loss.item()\n",
    "            avg_loss = losses/(idx+1)\n",
    "            curr_lr = optimizer.param_groups[0]['lr']\n",
    "            info = {'loss': avg_loss, 'lr': curr_lr}\n",
    "\n",
    "#             if not idx%log_interval: wandb.log(info)\n",
    "            pbar.set_postfix(info)\n",
    "\n",
    "    optimizer.zero_grad(set_to_none=True)\n",
    "    return losses/len(train_iter)"
   ]
  },
  {
   "cell_type": "code",
   "execution_count": 69,
   "id": "c06c126d-1c88-4119-a1c9-2a3cd78d4e9b",
   "metadata": {},
   "outputs": [],
   "source": [
    "def evaluate(model, val_iter, use_amp=True):\n",
    "    model.eval()\n",
    "    losses = 0\n",
    "    with tqdm(enumerate(val_iter), total=len(val_iter), desc=\"Evaluating\") as pbar:\n",
    "        for idx, (img, tgt) in pbar:\n",
    "            img = img.to(device)\n",
    "            tgt = tgt.to(device)\n",
    "\n",
    "            tgt_inp = tgt[:-1,:]      # give input until before the last word.\n",
    "            tgt_out = tgt[1:, :]      # predict the last word based on input and already predicted sentence. (auto-regressive)\n",
    "\n",
    "            tgt_mask, tgt_pad_mask = subsequent_mask(tgt_inp.size(0), device), padding_mask(tgt_inp, PAD_IDX)\n",
    "            \n",
    "            with amp.autocast(enabled=use_amp):\n",
    "                logits = model(img, tgt_inp, tgt_mask, tgt_pad_mask)\n",
    "                loss = loss_fn(logits.reshape(-1, logits.size(-1)), tgt_out.reshape(-1))\n",
    "\n",
    "            losses+= loss.item()\n",
    "            pbar.set_postfix({'val_loss': f\"{losses/(idx+1):.3f}\"})\n",
    "    return losses/len(val_iter)"
   ]
  },
  {
   "cell_type": "code",
   "execution_count": 54,
   "id": "e0a69310-dc2b-4bf5-a8e4-35865105342c",
   "metadata": {},
   "outputs": [],
   "source": [
    "def save_model(model, optimizer, epoch):\n",
    "    torch.save({\n",
    "                'model_state_dict': model.state_dict(),\n",
    "                'optimizer_state_dict': optimizer.state_dict(),\n",
    "                'epoch': epoch,\n",
    "                }, run.dir + '/model.pth')"
   ]
  },
  {
   "cell_type": "code",
   "execution_count": 76,
   "id": "d3b8e705-710b-4cfa-bf64-a73e8739f8da",
   "metadata": {},
   "outputs": [],
   "source": [
    "init_epoch = 1"
   ]
  },
  {
   "cell_type": "code",
   "execution_count": 56,
   "id": "53012613-4bdd-4e1f-abe1-e9c4ee9fa3d3",
   "metadata": {},
   "outputs": [],
   "source": [
    "NUM_EPOCHS = 20"
   ]
  },
  {
   "cell_type": "code",
   "execution_count": 77,
   "id": "cb9476c9-376f-49f5-a3bd-881210d50d0d",
   "metadata": {},
   "outputs": [],
   "source": [
    "import gc\n",
    "gc.collect()\n",
    "torch.cuda.empty_cache()"
   ]
  },
  {
   "cell_type": "code",
   "execution_count": null,
   "id": "c51c61ae-aa1a-4502-8a8e-e2c520219a93",
   "metadata": {
    "tags": []
   },
   "outputs": [],
   "source": [
    "#collapse-output\n",
    "for epoch in range(init_epoch, NUM_EPOCHS+1):\n",
    "    train_loss = train_epoch(model, val_loader, optimizer, scaler, scheduler,\n",
    "                             epoch, CONFIG['use_amp'], CONFIG['log_interval'])\n",
    "    gc.collect(); torch.cuda.empty_cache()\n",
    "    with torch.no_grad():\n",
    "        val_loss = train_loss#evaluate(model, val_loader, CONFIG['use_amp'])\n",
    "#     wandb.log({\"val_loss\": val_loss, \"epoch\": epoch})\n",
    "    print(f\"Epoch: {epoch}/{NUM_EPOCHS}, Train loss: {train_loss:.3f}, Val loss: {val_loss:.3f}\\n\")\n",
    "    # if not epoch%10:\n",
    "    #     save_model(model, optimizer, epoch)"
   ]
  },
  {
   "cell_type": "code",
   "execution_count": 79,
   "id": "0694d7b8-8858-40c4-9aa5-06af829377f9",
   "metadata": {},
   "outputs": [],
   "source": [
    "init_epoch = epoch"
   ]
  },
  {
   "cell_type": "markdown",
   "id": "f954d0ba-cc4e-4b9d-bec3-202183c517ca",
   "metadata": {
    "id": "YAvcxbPTFax2"
   },
   "source": [
    "# Make Predictions"
   ]
  },
  {
   "cell_type": "code",
   "execution_count": 310,
   "id": "34341b74-edb8-4e7c-8f05-43b3c0f0db2a",
   "metadata": {
    "id": "GN_nUNjNEYTk"
   },
   "outputs": [],
   "source": [
    "def greedy_decode(model, img, max_len=100, start_symbol=BOS_IDX):\n",
    "    model.eval()\n",
    "    img = img.to(device)\n",
    "    enc_output = model.encode_image(img)\n",
    "    tgt = torch.ones(1, 1).fill_(start_symbol).long().to(device)\n",
    "    for i in range(max_len):\n",
    "        tgt_mask = subsequent_mask(tgt.size(0), device)\n",
    "        out = model.decode_text(tgt, enc_output, tgt_mask)\n",
    "        out = out.transpose(0,1)\n",
    "        prob = model.generator(out[:,-1])\n",
    "        _, next_word = torch.max(prob, dim = 1)\n",
    "        next_word = next_word.item()\n",
    "        tgt = torch.cat([tgt, torch.ones(1, 1).fill_(next_word).long().to(device)], dim=0)\n",
    "        if next_word == EOS_IDX:\n",
    "            break\n",
    "    return tgt\n",
    "\n",
    "def generate_caption(model, img, tgt_vocab, tokenizer):\n",
    "    with torch.no_grad():\n",
    "        tgt = greedy_decode(model, img, max_len=100, start_symbol=BOS_IDX).flatten()\n",
    "    return \" \".join(tgt_vocab.lookup_tokens(tgt.tolist())).replace(\"<bos>\", \"\").replace(\"<eos>\", \"\")"
   ]
  },
  {
   "cell_type": "code",
   "execution_count": 311,
   "id": "04031a04-edae-4fa3-b40a-190f1aa96570",
   "metadata": {},
   "outputs": [],
   "source": [
    "import os\n",
    "import random"
   ]
  },
  {
   "cell_type": "code",
   "execution_count": 312,
   "id": "4391b037-7a0a-4179-82e9-d7e9e1ff6c11",
   "metadata": {},
   "outputs": [],
   "source": [
    "paths = os.listdir(\"../datasets/COCO/val2017/\")"
   ]
  },
  {
   "cell_type": "code",
   "execution_count": null,
   "id": "a0c18f31-27a8-49d7-b60a-e9f09f12861a",
   "metadata": {},
   "outputs": [],
   "source": [
    "img = Image.open(\"../datasets/COCO/val2017/\"+random.choice(paths))\n",
    "img"
   ]
  },
  {
   "cell_type": "code",
   "execution_count": 316,
   "id": "d482f555-4b36-4c19-8828-4d2b84dc7bf7",
   "metadata": {
    "colab": {
     "base_uri": "https://localhost:8080/",
     "height": 35
    },
    "id": "4qMIRyVtNRzI",
    "outputId": "2895dbd6-580b-4a3e-81bf-2b4efcb51240",
    "tags": []
   },
   "outputs": [
    {
     "data": {
      "text/plain": [
       "' a plate of food with broccoli and vegetables . '"
      ]
     },
     "execution_count": 316,
     "metadata": {},
     "output_type": "execute_result"
    }
   ],
   "source": [
    "generate_caption(model, preproc['val'](img)[None,:], en_vocab, tokenizer)"
   ]
  },
  {
   "cell_type": "code",
   "execution_count": null,
   "id": "17db2ed5-573d-4926-8567-3637b42338ae",
   "metadata": {},
   "outputs": [],
   "source": []
  }
 ],
 "metadata": {
  "kernelspec": {
   "display_name": "Python 3",
   "language": "python",
   "name": "python3"
  },
  "language_info": {
   "codemirror_mode": {
    "name": "ipython",
    "version": 3
   },
   "file_extension": ".py",
   "mimetype": "text/x-python",
   "name": "python",
   "nbconvert_exporter": "python",
   "pygments_lexer": "ipython3",
   "version": "3.9.5"
  }
 },
 "nbformat": 4,
 "nbformat_minor": 5
}
